{
 "metadata": {
  "language_info": {
   "codemirror_mode": {
    "name": "ipython",
    "version": 3
   },
   "file_extension": ".py",
   "mimetype": "text/x-python",
   "name": "python",
   "nbconvert_exporter": "python",
   "pygments_lexer": "ipython3",
   "version": "3.9.1-final"
  },
  "orig_nbformat": 2,
  "kernelspec": {
   "name": "python3",
   "display_name": "Python 3.9.1 64-bit",
   "metadata": {
    "interpreter": {
     "hash": "7bee95b4618227e40441c3c08fa35b5d191d62be905f76c7228b06d8a89b9a10"
    }
   }
  }
 },
 "nbformat": 4,
 "nbformat_minor": 2,
 "cells": [
  {
   "source": [
    "## Frequently used functions"
   ],
   "cell_type": "markdown",
   "metadata": {}
  },
  {
   "source": [
    "All the functions which is used alot."
   ],
   "cell_type": "markdown",
   "metadata": {}
  },
  {
   "cell_type": "code",
   "execution_count": null,
   "metadata": {},
   "outputs": [],
   "source": [
    "#Turns off useless spines, ticks and labels for additional axis.\n",
    "#Turns on the spine we want to see, and position it.\n",
    "#changed vals to +20-20 for axis. Might need to adjust this over time.\n",
    "def ax_modification(ax,pos,val):\n",
    "    for value in ax.spines.values():\n",
    "        value.set_visible(False)\n",
    "    ax.tick_params(axis='x', bottom=False, labelbottom=False)\n",
    "    ax.spines[pos].set_visible(True)\n",
    "    ax.spines[pos].set_position(('axes',val))\n",
    "    ax.yaxis.set_label_position(pos)\n",
    "    ax.yaxis.set_ticks_position(pos)\n",
    "    if val >= 1:\n",
    "        val += 0.20\n",
    "    else:\n",
    "        val -= 0.20\n",
    "    return val\n",
    "\n",
    "#styles with colors, and give name.\n",
    "#also last lines pushes y axis labels.\n",
    "#set y_lim to be positive only.\n",
    "#might be a bad solution (if statement), but works\n",
    "\n",
    "#Hvis ikke fornøyd med tekst, ta vekk rotation=0, og if/else statements.\n",
    "def ax_style(ax,title,color):\n",
    "    ax.set_ylabel(title, rotation=0)\n",
    "    ax.yaxis.label.set_color(color)\n",
    "    ax.tick_params(axis='y', colors=color)\n",
    "    if (title=='Power' or title=='Altitude'):\n",
    "        ax.yaxis.label.set_position((-0.1, -0.1))\n",
    "    else:\n",
    "        ax.yaxis.label.set_position((1.1, 1.1))\n",
    "\n",
    "# Dette gjør at verdier med bare NaNs starter på null. Verdier som har første verdi som null og ingen endring til slutten, starter på null.(usikker her med større datasett) Verdier som ikke starter på null men har ingen endring starter på den første gyldige verdien. (Disse vil også gå som en strek i midten). Feel free å endre og se om du finner en bedre visuell løsning.\n",
    "def check_ylim(ax,df,title):\n",
    "    if (df[title].diff().sum() == 0):\n",
    "        if (df[title].isnull().all()):\n",
    "            ax.set_ylim(bottom=0.)\n",
    "        else:\n",
    "            firstVal = df[title].loc[df[title].first_valid_index()]\n",
    "            if (firstVal == 0):\n",
    "                ax.set_ylim(bottom=0.)\n",
    "            if (len(set(df[title].tolist()))==1):\n",
    "                #print(title)\n",
    "                ax.set_ylim(bottom=df[title].loc[df[title].first_valid_index()])\n",
    "\n",
    "#get lap values +- offset. Can use both nested arrays, or arrays.\n",
    "#Maybe create two different functions if easier.\n",
    "#def get_lapdf(df,ID,startOffset,endOffset,values):\n",
    "#    tempAdd_df = []\n",
    "#    for i in range(len(values)):\n",
    "#        if any(isinstance(c, list) for c in values):\n",
    "#            startRow = df[ID].index.get_loc(values[i][0])-startOffset\n",
    "#            endRow = df[ID].index.get_loc(values[i][0])+endOffset\n",
    "#            tempAdd_df.append(df[ID].iloc[startRow:endRow])\n",
    "#            tempAdd_df[i].iloc[-1:, [tempAdd_df[i].columns.get_loc(col) for col in fitgen_cols[1:]]]=np.NaN\n",
    "#        else:\n",
    "#            startRow = df[ID].index.get_loc(values[i])-startOffset\n",
    "#            endRow = df[ID].index.get_loc(values[i])+endOffset\n",
    "#            tempAdd_df.append(df[ID].iloc[startRow:endRow])\n",
    "#            tempAdd_df[i].iloc[-1:, [tempAdd_df[i].columns.get_loc(col) for col in fitgen_cols[1:]]]=np.NaN\n",
    "#    return tempAdd_df\n",
    "\n",
    "#get correlation date.\n",
    "#not used anymore.\n",
    "#def get_corr_val(arrDf):\n",
    "    #corrArr = []\n",
    "    #for i in range(len(arrDf)):\n",
    "        #corrValues = arrDf[i][(arrDf[i]['speed'] == 0) & (arrDf[i]['power'] == 0)]\n",
    "        #corrDate = corrValues.iloc[0].name\n",
    "        #corrArr.append(corrDate)\n",
    "    #return corrArr\n",
    "\n",
    "#get now values, date, lap and distance\n",
    "#not used anymore, waits a little bit on review before deleting.\n",
    "#def get_now_val(arrIndex,ID,df):\n",
    "    #nowArr = []\n",
    "    #tempnowArr = []\n",
    "    #for i in range(len(arrIndex)):\n",
    "        #tempnowArr.append(arrIndex[i])\n",
    "        #rowVal = df[ID].index.get_loc(arrIndex[i])\n",
    "        #tempnowArr.append(df[ID]['lap'].iloc[rowVal])\n",
    "        #tempnowArr.append(df[ID]['distance'].iloc[rowVal])\n",
    "        #nowArr.append(tempnowArr)\n",
    "        #tempnowArr = []\n",
    "    #return nowArr\n",
    "\n",
    "#checking for change in changeable corr, else choose suggested.\n",
    "def get_corrTS(corrDF):\n",
    "    corrTS = []\n",
    "    for i in range(len(corrDF.index)):\n",
    "        if (len(corrDF.index[i]) == 10):\n",
    "            corrTS.append(corrDF['suggested timestamp'][i])\n",
    "        else:\n",
    "            corrTS.append(corrDF.index[i])\n",
    "    corrTS = pd.to_datetime(corrTS)\n",
    "    return corrTS"
   ]
  },
  {
   "cell_type": "code",
   "execution_count": null,
   "metadata": {},
   "outputs": [],
   "source": []
  }
 ]
}