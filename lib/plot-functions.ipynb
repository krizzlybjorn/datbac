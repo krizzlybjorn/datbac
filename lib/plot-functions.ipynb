{
 "metadata": {
  "language_info": {
   "codemirror_mode": {
    "name": "ipython",
    "version": 3
   },
   "file_extension": ".py",
   "mimetype": "text/x-python",
   "name": "python",
   "nbconvert_exporter": "python",
   "pygments_lexer": "ipython3",
   "version": 3
  },
  "orig_nbformat": 2
 },
 "nbformat": 4,
 "nbformat_minor": 2,
 "cells": [
  {
   "source": [
    "## Frequently used functions"
   ],
   "cell_type": "markdown",
   "metadata": {}
  },
  {
   "source": [
    "All the functions which is used alot."
   ],
   "cell_type": "markdown",
   "metadata": {}
  },
  {
   "cell_type": "code",
   "execution_count": null,
   "metadata": {},
   "outputs": [],
   "source": [
    "#Turns off useless spines, ticks and labels for additional axis.\n",
    "#Turns on the spine we want to see, and position it.\n",
    "def ax_modification(ax,pos,val):\n",
    "    for value in ax.spines.values():\n",
    "        value.set_visible(False)\n",
    "    ax.tick_params(axis='x', bottom=False, labelbottom=False)\n",
    "    ax.spines[pos].set_visible(True)\n",
    "    ax.spines[pos].set_position(('axes',val))\n",
    "    ax.yaxis.set_label_position(pos)\n",
    "    ax.yaxis.set_ticks_position(pos)\n",
    "    if val >= 1:\n",
    "        val += 0.10\n",
    "    else:\n",
    "        val -= 0.1\n",
    "    return val\n",
    "\n",
    "#styles with colors, and give name.\n",
    "def ax_style(ax,title,color):\n",
    "    ax.set_ylabel(title)\n",
    "    ax.yaxis.label.set_color(color)\n",
    "    ax.tick_params(axis='y', colors=color)\n",
    "\n",
    "#get lap values +- offset. Can use both nested arrays, or arrays.\n",
    "#Maybe create two different functions if easier.\n",
    "def get_lapdf(df,ID,startOffset,endOffset,values):\n",
    "    tempAdd_df = []\n",
    "    for i in range(len(values)):\n",
    "        if any(isinstance(c, list) for c in values):\n",
    "            startRow = df[ID].index.get_loc(values[i][0])-startOffset\n",
    "            endRow = df[ID].index.get_loc(values[i][0])+endOffset\n",
    "            tempAdd_df.append(df[ID].iloc[startRow:endRow])\n",
    "            tempAdd_df[i].iloc[-1:, [tempAdd_df[i].columns.get_loc(col) for col in fitgen_cols[1:]]]=np.NaN\n",
    "        else:\n",
    "            startRow = df[ID].index.get_loc(values[i])-startOffset\n",
    "            endRow = df[ID].index.get_loc(values[i])+endOffset\n",
    "            tempAdd_df.append(df[ID].iloc[startRow:endRow])\n",
    "            tempAdd_df[i].iloc[-1:, [tempAdd_df[i].columns.get_loc(col) for col in fitgen_cols[1:]]]=np.NaN\n",
    "    return tempAdd_df\n",
    "\n",
    "#get correlation date.\n",
    "def get_corr_val(arrDf):\n",
    "    corrArr = []\n",
    "    for i in range(len(arrDf)):\n",
    "        corrValues = arrDf[i][(arrDf[i]['speed'] == 0) & (arrDf[i]['power'] == 0)]\n",
    "        corrDate = corrValues.iloc[0].name\n",
    "        corrArr.append(corrDate)\n",
    "    return corrArr\n",
    "\n",
    "#get now values, date, lap and distance\n",
    "def get_now_val(arrIndex,ID,df):\n",
    "    nowArr = []\n",
    "    tempnowArr = []\n",
    "    for i in range(len(arrIndex)):\n",
    "        tempnowArr.append(arrIndex[i])\n",
    "        rowVal = df[ID].index.get_loc(arrIndex[i])\n",
    "        tempnowArr.append(df[ID]['lap'].iloc[rowVal])\n",
    "        tempnowArr.append(df[ID]['distance'].iloc[rowVal])\n",
    "        nowArr.append(tempnowArr)\n",
    "        tempnowArr = []\n",
    "    return nowArr\n",
    "\n",
    "#checking for change in changeable corr, else choose suggested.\n",
    "def get_corrTS(corrDF):\n",
    "    corrTS = []\n",
    "    for i in range(len(corrDF.index)):\n",
    "        if (len(corrDF.index[i]) == 10):\n",
    "            corrTS.append(corrDF['timestamp correlation suggestion'][i])\n",
    "        else:\n",
    "            corrTS.append(corrDF.index[i])\n",
    "    return corrTS"
   ]
  }
 ]
}