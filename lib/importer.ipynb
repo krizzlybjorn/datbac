{
 "metadata": {
  "language_info": {
   "codemirror_mode": {
    "name": "ipython",
    "version": 3
   },
   "file_extension": ".py",
   "mimetype": "text/x-python",
   "name": "python",
   "nbconvert_exporter": "python",
   "pygments_lexer": "ipython3",
   "version": "3.9.1-final"
  },
  "orig_nbformat": 2,
  "kernelspec": {
   "name": "python3",
   "display_name": "Python 3"
  }
 },
 "nbformat": 4,
 "nbformat_minor": 2,
 "cells": [
  {
   "source": [
    "### Import"
   ],
   "cell_type": "markdown",
   "metadata": {}
  },
  {
   "cell_type": "code",
   "execution_count": 19,
   "metadata": {},
   "outputs": [],
   "source": [
    "%matplotlib inline\n",
    "from IPython.core.interactiveshell import InteractiveShell\n",
    "InteractiveShell.ast_node_interactivity = \"all\"\n",
    "from fitparse import FitFile\n",
    "from os import listdir\n",
    "from os.path import isfile, join, splitext\n",
    "import pandas as pd\n",
    "import numpy as np\n",
    "\n",
    "import matplotlib.pyplot as plt\n",
    "import matplotlib.dates as md\n",
    "\n",
    "# used by hrv\n",
    "from datetime import datetime, timedelta\n"
   ]
  },
  {
   "source": [
    "Point the location_string variable to folder containing fitfiles."
   ],
   "cell_type": "markdown",
   "metadata": {}
  },
  {
   "cell_type": "code",
   "execution_count": 20,
   "metadata": {},
   "outputs": [],
   "source": [
    "location_string = './fitfiles/'\n",
    "participant_files = []\n",
    "for f in listdir(location_string):\n",
    "    if isfile(location_string+f):\n",
    "        participant_files.append(f)"
   ]
  },
  {
   "source": [
    "The following definitions are used to read the messages. The read_hrv_mean should not be used, as it is an incorrect implementation which was created to do some rudimentary checks.\n",
    "\n",
    "Todo: Implement the correct method for reading hrv messages.\n",
    "\n",
    "DONE"
   ],
   "cell_type": "markdown",
   "metadata": {}
  },
  {
   "cell_type": "code",
   "execution_count": 21,
   "metadata": {},
   "outputs": [],
   "source": [
    "#brukes for å sammenligne\n",
    "def speed_corr(speed):\n",
    "    return speed if isinstance(speed, float) else 0\n",
    "\n",
    "def power_corr(power):\n",
    "    return power if isinstance(power, int) else 0\n",
    "\n",
    "def read_record(rec):\n",
    "    global curr_timestamp\n",
    "    global curr_stop\n",
    "    global curr_active\n",
    "    if curr_stop == 1 and speed_corr(rec.get_value('speed')) > 7:\n",
    "        curr_stop = 0\n",
    "    if ((speed_corr(rec.get_value('speed')) > 0) & (pd.isnull(rec.get_value('power'))) or ((speed_corr(rec.get_value('speed')) > 0) & (power_corr(rec.get_value('power'))> 0))):\n",
    "        curr_active = 1\n",
    "    curr_timestamp = rec.get_value('timestamp')\n",
    "    return (curr_timestamp,\n",
    "            1, #type = 1\n",
    "            curr_lap,\n",
    "            curr_stop, \n",
    "            curr_active,\n",
    "            rec.get_value('speed'), \n",
    "            rec.get_value('enhanced_speed'),\n",
    "            rec.get_value('distance'), \n",
    "            rec.get_value('heart_rate'), \n",
    "            rec.get_value('accumulated_power'), \n",
    "            rec.get_value('power'), \n",
    "            rec.get_value('position_lat'), \n",
    "            rec.get_value('position_long'), \n",
    "            rec.get_value('altitude'), \n",
    "            rec.get_value('enhanced_altitude'), \n",
    "            rec.get_value('cadence'), \n",
    "            rec.get_value('factional_cadence'), \n",
    "            rec.get_value('left_right_balnce'), \n",
    "            rec.get_value('left_torque_effectiveness'), \n",
    "            rec.get_value('right_torque_effectiveness'), \n",
    "            rec.get_value('left_pedal_smoothness'), \n",
    "            rec.get_value('right_pedal_smoothness'), \n",
    "            rec.get_value('temperature'))\n",
    "\n",
    "def read_lap(rec):\n",
    "    global curr_timestamp\n",
    "    global curr_lap\n",
    "    global curr_stop\n",
    "    curr_lap += 1\n",
    "    curr_stop = 1\n",
    "    curr_timestamp = rec.get_value('timestamp')\n",
    "    return (curr_timestamp, \n",
    "            2, # type = 2\n",
    "            curr_lap, \n",
    "            curr_stop, \n",
    "            np.NaN, \n",
    "            np.NaN, \n",
    "            np.NaN, \n",
    "            rec.get_value('total_distance'),\n",
    "            np.NaN, \n",
    "            np.NaN, \n",
    "            np.NaN, \n",
    "            np.NaN, \n",
    "            np.NaN, \n",
    "            np.NaN, \n",
    "            np.NaN, \n",
    "            np.NaN, \n",
    "            np.NaN, \n",
    "            np.NaN, \n",
    "            np.NaN, \n",
    "            np.NaN, \n",
    "            np.NaN, \n",
    "            np.NaN, \n",
    "            np.NaN)\n",
    "\n",
    "def read_hrv_acc(rec):\n",
    "    global curr_timestamp\n",
    "    hrv = []\n",
    "    for i in range(rec.get_value('time')):\n",
    "        if rec.get_value('time')[i] != None:\n",
    "            time_delta = datetime.timedelta(microsecond=rec.get_value('time')[i]*1000)\n",
    "            curr_timestamp += time_delta\n",
    "            yield hrv_returner(curr_timestamp)\n",
    "\n",
    "def hrv_returner(time):\n",
    "        return (time, \n",
    "            3, # type = 2\n",
    "            curr_lap, \n",
    "            curr_stop, \n",
    "            np.NaN, \n",
    "            np.NaN, \n",
    "            np.NaN, \n",
    "            np.NaN, \n",
    "            np.NaN, \n",
    "            np.NaN, \n",
    "            np.NaN, \n",
    "            np.NaN, \n",
    "            np.NaN, \n",
    "            np.NaN, \n",
    "            np.NaN, \n",
    "            np.NaN, \n",
    "            np.NaN, \n",
    "            np.NaN, \n",
    "            np.NaN, \n",
    "            np.NaN, \n",
    "            np.NaN, \n",
    "            np.NaN, \n",
    "            np.NaN)"
   ]
  },
  {
   "source": [
    "Generator"
   ],
   "cell_type": "markdown",
   "metadata": {}
  },
  {
   "cell_type": "code",
   "execution_count": 22,
   "metadata": {},
   "outputs": [],
   "source": [
    "#skriver om fitgen for å enklere kunne lese og legge til nye messages\n",
    "def fitgenerator(fitfile):\n",
    "    for rec in fitfile.get_messages(['record', 'lap', 'hrv']):\n",
    "        if rec.name=='record':\n",
    "            yield read_record(rec)\n",
    "        elif rec.name=='lap':\n",
    "            yield read_lap(rec)\n",
    "        else:\n",
    "            yield read_hrv_acc(rec)"
   ]
  },
  {
   "source": [
    "Initializing key variables"
   ],
   "cell_type": "markdown",
   "metadata": {}
  },
  {
   "cell_type": "code",
   "execution_count": 23,
   "metadata": {},
   "outputs": [],
   "source": [
    "fitgen_cols = ['timestamp', 'type', 'lap', 'stop', 'active', 'speed', 'enhanced_speed', 'distance', 'heart_rate', \n",
    "               'accumulated_power', 'power', 'position_lat', 'position_long', \n",
    "               'altitude', 'enhanced_altitude', 'cadence', 'factional_cadence', \n",
    "               'left_right_balnce', 'left_torque_effectiveness', 'right_torque_effectiveness', \n",
    "               'left_pedal_smoothness', 'right_pedal_smoothness', 'temperature']\n",
    "all_dfs = []\n",
    "all_stops = []\n",
    "all_hrv = []\n",
    "all_dStops = []\n",
    "all_rDfs = []"
   ]
  },
  {
   "source": [
    "Convert all messages (defined by generator) to dataframe"
   ],
   "cell_type": "markdown",
   "metadata": {}
  },
  {
   "cell_type": "code",
   "execution_count": 24,
   "metadata": {},
   "outputs": [
    {
     "output_type": "stream",
     "name": "stdout",
     "text": [
      "50338.FIT start\n",
      "50338.FIT read\n"
     ]
    },
    {
     "output_type": "error",
     "ename": "TypeError",
     "evalue": "object of type 'generator' has no len()",
     "traceback": [
      "\u001b[0;31m---------------------------------------------------------------------------\u001b[0m",
      "\u001b[0;31mTypeError\u001b[0m                                 Traceback (most recent call last)",
      "\u001b[0;32m<ipython-input-24-3b1e52ec52d9>\u001b[0m in \u001b[0;36m<module>\u001b[0;34m\u001b[0m\n\u001b[1;32m     13\u001b[0m     \u001b[0mprint\u001b[0m\u001b[0;34m(\u001b[0m\u001b[0mparticipant_file\u001b[0m\u001b[0;34m,\u001b[0m \u001b[0;34m'read'\u001b[0m\u001b[0;34m)\u001b[0m\u001b[0;34m\u001b[0m\u001b[0;34m\u001b[0m\u001b[0m\n\u001b[1;32m     14\u001b[0m \u001b[0;34m\u001b[0m\u001b[0m\n\u001b[0;32m---> 15\u001b[0;31m     \u001b[0mpart_df\u001b[0m \u001b[0;34m=\u001b[0m \u001b[0mpd\u001b[0m\u001b[0;34m.\u001b[0m\u001b[0mDataFrame\u001b[0m\u001b[0;34m(\u001b[0m\u001b[0mfitgen\u001b[0m\u001b[0;34m,\u001b[0m \u001b[0mcolumns\u001b[0m\u001b[0;34m=\u001b[0m\u001b[0mfitgen_cols\u001b[0m\u001b[0;34m)\u001b[0m\u001b[0;34m\u001b[0m\u001b[0;34m\u001b[0m\u001b[0m\n\u001b[0m\u001b[1;32m     16\u001b[0m     \u001b[0mall_dfs\u001b[0m\u001b[0;34m.\u001b[0m\u001b[0mappend\u001b[0m\u001b[0;34m(\u001b[0m\u001b[0mpart_df\u001b[0m\u001b[0;34m[\u001b[0m\u001b[0mpart_df\u001b[0m\u001b[0;34m[\u001b[0m\u001b[0;34m'type'\u001b[0m\u001b[0;34m]\u001b[0m\u001b[0;34m==\u001b[0m\u001b[0;36m1\u001b[0m\u001b[0;34m]\u001b[0m\u001b[0;34m.\u001b[0m\u001b[0mset_index\u001b[0m\u001b[0;34m(\u001b[0m\u001b[0;34m'timestamp'\u001b[0m\u001b[0;34m)\u001b[0m\u001b[0;34m)\u001b[0m\u001b[0;34m\u001b[0m\u001b[0;34m\u001b[0m\u001b[0m\n\u001b[1;32m     17\u001b[0m     \u001b[0mall_stops\u001b[0m\u001b[0;34m.\u001b[0m\u001b[0mappend\u001b[0m\u001b[0;34m(\u001b[0m\u001b[0mpart_df\u001b[0m\u001b[0;34m[\u001b[0m\u001b[0mpart_df\u001b[0m\u001b[0;34m[\u001b[0m\u001b[0;34m'type'\u001b[0m\u001b[0;34m]\u001b[0m\u001b[0;34m==\u001b[0m\u001b[0;36m2\u001b[0m\u001b[0;34m]\u001b[0m\u001b[0;34m.\u001b[0m\u001b[0mset_index\u001b[0m\u001b[0;34m(\u001b[0m\u001b[0;34m'timestamp'\u001b[0m\u001b[0;34m)\u001b[0m\u001b[0;34m)\u001b[0m\u001b[0;34m\u001b[0m\u001b[0;34m\u001b[0m\u001b[0m\n",
      "\u001b[0;32m/usr/lib/python3.9/site-packages/pandas/core/frame.py\u001b[0m in \u001b[0;36m__init__\u001b[0;34m(self, data, index, columns, dtype, copy)\u001b[0m\n\u001b[1;32m    568\u001b[0m                     \u001b[0;32mif\u001b[0m \u001b[0mis_named_tuple\u001b[0m\u001b[0;34m(\u001b[0m\u001b[0mdata\u001b[0m\u001b[0;34m[\u001b[0m\u001b[0;36m0\u001b[0m\u001b[0;34m]\u001b[0m\u001b[0;34m)\u001b[0m \u001b[0;32mand\u001b[0m \u001b[0mcolumns\u001b[0m \u001b[0;32mis\u001b[0m \u001b[0;32mNone\u001b[0m\u001b[0;34m:\u001b[0m\u001b[0;34m\u001b[0m\u001b[0;34m\u001b[0m\u001b[0m\n\u001b[1;32m    569\u001b[0m                         \u001b[0mcolumns\u001b[0m \u001b[0;34m=\u001b[0m \u001b[0mdata\u001b[0m\u001b[0;34m[\u001b[0m\u001b[0;36m0\u001b[0m\u001b[0;34m]\u001b[0m\u001b[0;34m.\u001b[0m\u001b[0m_fields\u001b[0m\u001b[0;34m\u001b[0m\u001b[0;34m\u001b[0m\u001b[0m\n\u001b[0;32m--> 570\u001b[0;31m                     \u001b[0marrays\u001b[0m\u001b[0;34m,\u001b[0m \u001b[0mcolumns\u001b[0m \u001b[0;34m=\u001b[0m \u001b[0mto_arrays\u001b[0m\u001b[0;34m(\u001b[0m\u001b[0mdata\u001b[0m\u001b[0;34m,\u001b[0m \u001b[0mcolumns\u001b[0m\u001b[0;34m,\u001b[0m \u001b[0mdtype\u001b[0m\u001b[0;34m=\u001b[0m\u001b[0mdtype\u001b[0m\u001b[0;34m)\u001b[0m\u001b[0;34m\u001b[0m\u001b[0;34m\u001b[0m\u001b[0m\n\u001b[0m\u001b[1;32m    571\u001b[0m                     \u001b[0mcolumns\u001b[0m \u001b[0;34m=\u001b[0m \u001b[0mensure_index\u001b[0m\u001b[0;34m(\u001b[0m\u001b[0mcolumns\u001b[0m\u001b[0;34m)\u001b[0m\u001b[0;34m\u001b[0m\u001b[0;34m\u001b[0m\u001b[0m\n\u001b[1;32m    572\u001b[0m \u001b[0;34m\u001b[0m\u001b[0m\n",
      "\u001b[0;32m/usr/lib/python3.9/site-packages/pandas/core/internals/construction.py\u001b[0m in \u001b[0;36mto_arrays\u001b[0;34m(data, columns, coerce_float, dtype)\u001b[0m\n\u001b[1;32m    526\u001b[0m         \u001b[0;32mreturn\u001b[0m \u001b[0;34m[\u001b[0m\u001b[0;34m]\u001b[0m\u001b[0;34m,\u001b[0m \u001b[0;34m[\u001b[0m\u001b[0;34m]\u001b[0m  \u001b[0;31m# columns if columns is not None else []\u001b[0m\u001b[0;34m\u001b[0m\u001b[0;34m\u001b[0m\u001b[0m\n\u001b[1;32m    527\u001b[0m     \u001b[0;32mif\u001b[0m \u001b[0misinstance\u001b[0m\u001b[0;34m(\u001b[0m\u001b[0mdata\u001b[0m\u001b[0;34m[\u001b[0m\u001b[0;36m0\u001b[0m\u001b[0;34m]\u001b[0m\u001b[0;34m,\u001b[0m \u001b[0;34m(\u001b[0m\u001b[0mlist\u001b[0m\u001b[0;34m,\u001b[0m \u001b[0mtuple\u001b[0m\u001b[0;34m)\u001b[0m\u001b[0;34m)\u001b[0m\u001b[0;34m:\u001b[0m\u001b[0;34m\u001b[0m\u001b[0;34m\u001b[0m\u001b[0m\n\u001b[0;32m--> 528\u001b[0;31m         \u001b[0;32mreturn\u001b[0m \u001b[0m_list_to_arrays\u001b[0m\u001b[0;34m(\u001b[0m\u001b[0mdata\u001b[0m\u001b[0;34m,\u001b[0m \u001b[0mcolumns\u001b[0m\u001b[0;34m,\u001b[0m \u001b[0mcoerce_float\u001b[0m\u001b[0;34m=\u001b[0m\u001b[0mcoerce_float\u001b[0m\u001b[0;34m,\u001b[0m \u001b[0mdtype\u001b[0m\u001b[0;34m=\u001b[0m\u001b[0mdtype\u001b[0m\u001b[0;34m)\u001b[0m\u001b[0;34m\u001b[0m\u001b[0;34m\u001b[0m\u001b[0m\n\u001b[0m\u001b[1;32m    529\u001b[0m     \u001b[0;32melif\u001b[0m \u001b[0misinstance\u001b[0m\u001b[0;34m(\u001b[0m\u001b[0mdata\u001b[0m\u001b[0;34m[\u001b[0m\u001b[0;36m0\u001b[0m\u001b[0;34m]\u001b[0m\u001b[0;34m,\u001b[0m \u001b[0mabc\u001b[0m\u001b[0;34m.\u001b[0m\u001b[0mMapping\u001b[0m\u001b[0;34m)\u001b[0m\u001b[0;34m:\u001b[0m\u001b[0;34m\u001b[0m\u001b[0;34m\u001b[0m\u001b[0m\n\u001b[1;32m    530\u001b[0m         return _list_of_dict_to_arrays(\n",
      "\u001b[0;32m/usr/lib/python3.9/site-packages/pandas/core/internals/construction.py\u001b[0m in \u001b[0;36m_list_to_arrays\u001b[0;34m(data, columns, coerce_float, dtype)\u001b[0m\n\u001b[1;32m    560\u001b[0m ) -> Tuple[List[Scalar], Union[Index, List[Axis]]]:\n\u001b[1;32m    561\u001b[0m     \u001b[0;32mif\u001b[0m \u001b[0mlen\u001b[0m\u001b[0;34m(\u001b[0m\u001b[0mdata\u001b[0m\u001b[0;34m)\u001b[0m \u001b[0;34m>\u001b[0m \u001b[0;36m0\u001b[0m \u001b[0;32mand\u001b[0m \u001b[0misinstance\u001b[0m\u001b[0;34m(\u001b[0m\u001b[0mdata\u001b[0m\u001b[0;34m[\u001b[0m\u001b[0;36m0\u001b[0m\u001b[0;34m]\u001b[0m\u001b[0;34m,\u001b[0m \u001b[0mtuple\u001b[0m\u001b[0;34m)\u001b[0m\u001b[0;34m:\u001b[0m\u001b[0;34m\u001b[0m\u001b[0;34m\u001b[0m\u001b[0m\n\u001b[0;32m--> 562\u001b[0;31m         \u001b[0mcontent\u001b[0m \u001b[0;34m=\u001b[0m \u001b[0mlist\u001b[0m\u001b[0;34m(\u001b[0m\u001b[0mlib\u001b[0m\u001b[0;34m.\u001b[0m\u001b[0mto_object_array_tuples\u001b[0m\u001b[0;34m(\u001b[0m\u001b[0mdata\u001b[0m\u001b[0;34m)\u001b[0m\u001b[0;34m.\u001b[0m\u001b[0mT\u001b[0m\u001b[0;34m)\u001b[0m\u001b[0;34m\u001b[0m\u001b[0;34m\u001b[0m\u001b[0m\n\u001b[0m\u001b[1;32m    563\u001b[0m     \u001b[0;32melse\u001b[0m\u001b[0;34m:\u001b[0m\u001b[0;34m\u001b[0m\u001b[0;34m\u001b[0m\u001b[0m\n\u001b[1;32m    564\u001b[0m         \u001b[0;31m# list of lists\u001b[0m\u001b[0;34m\u001b[0m\u001b[0;34m\u001b[0m\u001b[0;34m\u001b[0m\u001b[0m\n",
      "\u001b[0;32mpandas/_libs/lib.pyx\u001b[0m in \u001b[0;36mpandas._libs.lib.to_object_array_tuples\u001b[0;34m()\u001b[0m\n",
      "\u001b[0;31mTypeError\u001b[0m: object of type 'generator' has no len()"
     ]
    }
   ],
   "source": [
    "for participant_file in participant_files:\n",
    "    fitfile = FitFile(location_string+participant_file)\n",
    "    print(participant_file, 'start')\n",
    "    \n",
    "    curr_lap = 0\n",
    "    curr_stop = 0\n",
    "    curr_active = 0\n",
    "\n",
    "    fitgen = fitgenerator(fitfile)\n",
    "\n",
    "    allraw = list(rec for rec in fitfile.get_messages(['record', 'lap', 'hrv']))\n",
    "\n",
    "    print(participant_file, 'read')\n",
    "    \n",
    "    part_df = pd.DataFrame(fitgen, columns=fitgen_cols)\n",
    "    all_dfs.append(part_df[part_df['type']==1].set_index('timestamp'))\n",
    "    all_stops.append(part_df[part_df['type']==2].set_index('timestamp'))\n",
    "    all_hrv.append(part_df[part_df['type']==3].set_index('timestamp'))\n",
    "    #stopp informasjon.\n",
    "    all_dStops.append(part_df[part_df['stop']==1].set_index('timestamp'))\n",
    "    #relativ informasjon. Blir litt feil.\n",
    "    all_rDfs.append(part_df[part_df['active']==1].set_index('timestamp'))\n",
    "    \n",
    "    print(participant_file, 'converted')"
   ]
  }
 ]
}