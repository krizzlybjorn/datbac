{
 "metadata": {
  "language_info": {
   "codemirror_mode": {
    "name": "ipython",
    "version": 3
   },
   "file_extension": ".py",
   "mimetype": "text/x-python",
   "name": "python",
   "nbconvert_exporter": "python",
   "pygments_lexer": "ipython3",
   "version": "3.9.1"
  },
  "orig_nbformat": 2,
  "kernelspec": {
   "name": "python391jvsc74a57bd07bee95b4618227e40441c3c08fa35b5d191d62be905f76c7228b06d8a89b9a10",
   "display_name": "Python 3.9.1 64-bit"
  }
 },
 "nbformat": 4,
 "nbformat_minor": 2,
 "cells": [
  {
   "cell_type": "code",
   "execution_count": null,
   "metadata": {},
   "outputs": [],
   "source": [
    "# Disser er hentet fra eksempelet vi fikk utdelt. Kommenterer ut noen da jeg ikke vet hva de brukes til.\n",
    "%matplotlib inline\n",
    "from IPython.core.interactiveshell import InteractiveShell\n",
    "InteractiveShell.ast_node_interactivity = \"all\"\n",
    "from fitparse import FitFile\n",
    "from os import listdir\n",
    "from os.path import isfile, join, splitext\n",
    "import pandas as pd\n",
    "import numpy as np\n",
    "\n",
    "import matplotlib.pyplot as plt\n",
    "import matplotlib.dates as md"
   ]
  },
  {
   "source": [
    "Fetch all the files in a simple for-loop"
   ],
   "cell_type": "markdown",
   "metadata": {}
  },
  {
   "cell_type": "code",
   "execution_count": null,
   "metadata": {},
   "outputs": [],
   "source": [
    "location_string = '../Fitfiles/'\n",
    "participant_files = []\n",
    "for f in listdir(location_string):\n",
    "    if isfile(location_string+f):\n",
    "# participant_files.append(location_string+'/'+f) #hele location\n",
    "        participant_files.append(f) #kun selve filen\n",
    "# print(participant_files)"
   ]
  },
  {
   "source": [
    "Find all message names"
   ],
   "cell_type": "markdown",
   "metadata": {}
  },
  {
   "cell_type": "code",
   "execution_count": null,
   "metadata": {},
   "outputs": [],
   "source": [
    "fitmessages = []\n",
    "\n",
    "for participant_file in participant_files:\n",
    "    fitfile = FitFile(location_string+participant_file)\n",
    "\n",
    "    for rec in fitfile:\n",
    "        fitmessages.append(rec.name)\n",
    "print(set(fitmessages))\n"
   ]
  },
  {
   "source": [
    "Crate a txt file with all messagenames"
   ],
   "cell_type": "markdown",
   "metadata": {}
  },
  {
   "cell_type": "code",
   "execution_count": null,
   "metadata": {},
   "outputs": [],
   "source": [
    "f = open('messagenames50338.txt', 'w')\n",
    "fitfile = FitFile(location_string+'50338.FIT')\n",
    "for rec in fitfile:\n",
    "    f.write(rec.name)\n",
    "    f.write('\\n')\n",
    "f.close()\n",
    "\n",
    "#regex \\bhrv\\n\\bhrv"
   ]
  },
  {
   "source": [
    "Show all content of all hrv messages"
   ],
   "cell_type": "markdown",
   "metadata": {}
  },
  {
   "cell_type": "code",
   "execution_count": null,
   "metadata": {
    "tags": []
   },
   "outputs": [],
   "source": [
    "fitmessages = []\n",
    "\n",
    "for participant_file in participant_files:\n",
    "    fitfile = FitFile(location_string+participant_file)\n",
    "\n",
    "    for rec in fitfile:\n",
    "        if rec.name=='hrv':\n",
    "            fitmessages.append(rec.get_values)\n",
    "print(set(fitmessages))"
   ]
  },
  {
   "source": [
    "Simple test of first found hrv message"
   ],
   "cell_type": "markdown",
   "metadata": {}
  },
  {
   "cell_type": "code",
   "execution_count": null,
   "metadata": {},
   "outputs": [],
   "source": [
    "fitfile = FitFile(location_string+'50048.FIT')\n",
    "\n",
    "for rec in fitfile:\n",
    "    if rec.name=='hrv':\n",
    "        print(rec.get_values)\n",
    "        print(rec.get_value('time'))\n",
    "        print(rec.get_value('time')[1])\n",
    "        test = rec.get_value('time')\n",
    "        for i in range(len(test)):\n",
    "            if test[i] == None:\n",
    "                print('yo!')\n",
    "            else:\n",
    "                print('no yo!')\n",
    "        break"
   ]
  },
  {
   "source": [
    "Defining methods to read messages from fitfile"
   ],
   "cell_type": "markdown",
   "metadata": {}
  },
  {
   "cell_type": "code",
   "execution_count": null,
   "metadata": {},
   "outputs": [],
   "source": [
    "# hrv test\n",
    "def speed_corr(speed):\n",
    "    return speed if isinstance(speed, float) else 0\n",
    "\n",
    "def power_corr(power):\n",
    "    return power if isinstance(power, int) else 0\n",
    "\n",
    "def read_record(rec):\n",
    "    global curr_timestamp\n",
    "    global curr_stop\n",
    "    global curr_active\n",
    "    if curr_stop == 1 and speed_corr(rec.get_value('speed')) > 7:\n",
    "        curr_stop = 0\n",
    "    if ((speed_corr(rec.get_value('speed')) > 0) & (pd.isnull(rec.get_value('power'))) or ((speed_corr(rec.get_value('speed')) > 0) & (power_corr(rec.get_value('power'))> 0))):\n",
    "        curr_active = 1\n",
    "    curr_timestamp = rec.get_value('timestamp')\n",
    "    return (curr_timestamp,\n",
    "            1, #type = 1\n",
    "            curr_lap,\n",
    "            curr_stop, \n",
    "            curr_active,\n",
    "            rec.get_value('speed'), \n",
    "            rec.get_value('enhanced_speed'),\n",
    "            rec.get_value('distance'), \n",
    "            np.NaN, #HRV\n",
    "            rec.get_value('heart_rate'), \n",
    "            rec.get_value('accumulated_power'), \n",
    "            rec.get_value('power'), \n",
    "            rec.get_value('position_lat'), \n",
    "            rec.get_value('position_long'), \n",
    "            rec.get_value('altitude'), \n",
    "            rec.get_value('enhanced_altitude'), \n",
    "            rec.get_value('cadence'), \n",
    "            rec.get_value('factional_cadence'), \n",
    "            rec.get_value('left_right_balnce'), \n",
    "            rec.get_value('left_torque_effectiveness'), \n",
    "            rec.get_value('right_torque_effectiveness'), \n",
    "            rec.get_value('left_pedal_smoothness'), \n",
    "            rec.get_value('right_pedal_smoothness'), \n",
    "            rec.get_value('temperature'))\n",
    "\n",
    "def read_lap(rec):\n",
    "    global curr_timestamp\n",
    "    global curr_lap\n",
    "    global curr_stop\n",
    "    curr_lap += 1\n",
    "    curr_stop = 1\n",
    "    curr_timestamp = rec.get_value('timestamp')\n",
    "    return (curr_timestamp, \n",
    "            2, # type = 2\n",
    "            curr_lap, \n",
    "            curr_stop, \n",
    "            np.NaN, \n",
    "            np.NaN, \n",
    "            np.NaN, \n",
    "            rec.get_value('total_distance'),\n",
    "            np.NaN, #HRV \n",
    "            np.NaN, \n",
    "            np.NaN, \n",
    "            np.NaN, \n",
    "            np.NaN, \n",
    "            np.NaN, \n",
    "            np.NaN, \n",
    "            np.NaN, \n",
    "            np.NaN, \n",
    "            np.NaN, \n",
    "            np.NaN, \n",
    "            np.NaN, \n",
    "            np.NaN, \n",
    "            np.NaN, \n",
    "            np.NaN, \n",
    "            np.NaN)\n",
    "\n",
    "def read_hrv_timestepper(rec):\n",
    "    #global timestepper\n",
    "    # NOT DONE\n",
    "    return (curr_timestamp, \n",
    "            3, # type = 2\n",
    "            curr_lap, \n",
    "            curr_stop, \n",
    "            np.NaN, \n",
    "            np.NaN, \n",
    "            np.NaN, \n",
    "            rec.get_value('total_distance'), \n",
    "            np.NaN, #HRV\n",
    "            np.NaN, \n",
    "            np.NaN, \n",
    "            np.NaN, \n",
    "            np.NaN, \n",
    "            np.NaN, \n",
    "            np.NaN, \n",
    "            np.NaN, \n",
    "            np.NaN, \n",
    "            np.NaN, \n",
    "            np.NaN, \n",
    "            np.NaN, \n",
    "            np.NaN, \n",
    "            np.NaN, \n",
    "            np.NaN, \n",
    "            np.NaN)\n",
    "\n",
    "def read_hrv_mean(rec):\n",
    "    numerator = 0\n",
    "    denominator = 0\n",
    "    for a in range(5):\n",
    "        if rec.get_value('time')[a] != None:\n",
    "            denominator += 1\n",
    "            numerator += rec.get_value('time')[a]\n",
    "    if denominator != 0:\n",
    "        mean_hrv = numerator/denominator\n",
    "    else:\n",
    "        mean_hrv = 0\n",
    "    return (curr_timestamp,\n",
    "            3, # type = 3\n",
    "            curr_lap, \n",
    "            curr_stop, \n",
    "            np.NaN, \n",
    "            np.NaN, \n",
    "            np.NaN, \n",
    "            rec.get_value('total_distance'), \n",
    "            mean_hrv, #HRV\n",
    "            np.NaN, \n",
    "            np.NaN, \n",
    "            np.NaN, \n",
    "            np.NaN, \n",
    "            np.NaN, \n",
    "            np.NaN, \n",
    "            np.NaN, \n",
    "            np.NaN, \n",
    "            np.NaN, \n",
    "            np.NaN, \n",
    "            np.NaN, \n",
    "            np.NaN, \n",
    "            np.NaN, \n",
    "            np.NaN, \n",
    "            np.NaN)"
   ]
  },
  {
   "source": [
    "Rewrote given generator for ease of reading and expanding"
   ],
   "cell_type": "markdown",
   "metadata": {}
  },
  {
   "cell_type": "code",
   "execution_count": null,
   "metadata": {},
   "outputs": [],
   "source": [
    "#skriver om fitgen for å enklere kunne lese og legge til nye messages\n",
    "def fitgenerator(fitfile):\n",
    "    for rec in fitfile.get_messages(['record', 'lap', 'hrv']):\n",
    "        if rec.name=='record':\n",
    "            yield read_record(rec)\n",
    "        elif rec.name=='lap':\n",
    "            yield read_lap(rec)\n",
    "        else:\n",
    "            yield read_hrv_mean(rec)"
   ]
  },
  {
   "source": [
    "Initializing key variables"
   ],
   "cell_type": "markdown",
   "metadata": {}
  },
  {
   "cell_type": "code",
   "execution_count": null,
   "metadata": {},
   "outputs": [],
   "source": [
    "fitgen_cols = ['timestamp', 'type', 'lap', 'stop', 'active', 'speed', 'enhanced_speed', 'distance', 'hrv',                           'heart_rate', \n",
    "               'accumulated_power', 'power', 'position_lat', 'position_long', \n",
    "               'altitude', 'enhanced_altitude', 'cadence', 'factional_cadence', \n",
    "               'left_right_balnce', 'left_torque_effectiveness', 'right_torque_effectiveness', \n",
    "               'left_pedal_smoothness', 'right_pedal_smoothness', 'temperature']\n",
    "all_dfs = []\n",
    "all_stops = []\n",
    "all_hrv = []\n",
    "all_dStops = []\n",
    "all_rDfs = []"
   ]
  },
  {
   "source": [
    "Convert all messages (defined by generator) to dataframe"
   ],
   "cell_type": "markdown",
   "metadata": {}
  },
  {
   "cell_type": "code",
   "execution_count": null,
   "metadata": {},
   "outputs": [],
   "source": [
    "for participant_file in participant_files:\n",
    "    fitfile = FitFile(location_string+participant_file)\n",
    "    print(participant_file, 'start')\n",
    "    \n",
    "    curr_lap = 0\n",
    "    curr_stop = 0\n",
    "    curr_active = 0\n",
    "    #curr_timestamp - tror ikkje me trenge denne\n",
    "\n",
    "    fitgen = fitgenerator(fitfile)\n",
    "\n",
    "    allraw = list(rec for rec in fitfile.get_messages(['record', 'lap', 'hrv']))\n",
    "\n",
    "    print(participant_file, 'read')\n",
    "    \n",
    "    part_df = pd.DataFrame(fitgen, columns=fitgen_cols)\n",
    "    all_dfs.append(part_df[part_df['type']==1].set_index('timestamp'))\n",
    "    all_stops.append(part_df[part_df['type']==2].set_index('timestamp'))\n",
    "    all_hrv.append(part_df[part_df['type']==3].set_index('timestamp'))\n",
    "\n",
    "    print(participant_file, 'converted')"
   ]
  },
  {
   "source": [
    "Create txt file with all hrv messages (incorrectly due to bad hrv reading method)"
   ],
   "cell_type": "markdown",
   "metadata": {}
  },
  {
   "cell_type": "code",
   "execution_count": null,
   "metadata": {},
   "outputs": [],
   "source": [
    "f = open('all_hrv.txt', 'w')\n",
    "for element in all_hrv:\n",
    "    f.write(element.to_string())\n",
    "    f.write('\\n')\n",
    "f.close()"
   ]
  },
  {
   "cell_type": "code",
   "execution_count": null,
   "metadata": {},
   "outputs": [],
   "source": [
    "fitmessages = []\n",
    "\n",
    "for participant_file in participant_files:\n",
    "    fitfile = FitFile(location_string+participant_file)\n",
    "    print('\\n')\n",
    "    for rec in fitfile:\n",
    "        if rec.name=='file_id':\n",
    "            print(rec.get_values())\n"
   ]
  },
  {
   "cell_type": "code",
   "execution_count": null,
   "metadata": {},
   "outputs": [],
   "source": [
    "fitmessages = []\n",
    "\n",
    "for participant_file in participant_files:\n",
    "    fitfile = FitFile(location_string+participant_file)\n",
    "    for rec in fitfile:\n",
    "        if rec.name=='hr':\n",
    "            fitmessages.append(participant_file)\n",
    "print(set(fitmessages))"
   ]
  },
  {
   "cell_type": "code",
   "execution_count": null,
   "metadata": {},
   "outputs": [],
   "source": [
    "#{'50880.FIT', '50499.FIT'}, bruker HR messages.\n"
   ]
  }
 ]
}