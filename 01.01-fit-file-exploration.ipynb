{
 "cells": [
  {
   "cell_type": "code",
   "execution_count": null,
   "metadata": {
    "collapsed": true,
    "jupyter": {
     "outputs_hidden": true
    }
   },
   "outputs": [],
   "source": [
    "from IPython.core.interactiveshell import InteractiveShell\n",
    "InteractiveShell.ast_node_interactivity = \"all\""
   ]
  },
  {
   "cell_type": "code",
   "execution_count": null,
   "metadata": {
    "jupyter": {
     "outputs_hidden": false
    }
   },
   "outputs": [],
   "source": [
    "from fitparse import FitFile\n",
    "\n",
    "\n",
    "#fitfile1 = FitFile('./2620848772.fit') #older file from Magnus\n",
    "#fitfile2 = FitFile('./50087.fit') #new file from Magnus, which might have HRV\n",
    "ff50048 = FitFile('./T2/50048.fit')\n",
    "ff50338 = FitFile('./T2/50338.fit')"
   ]
  },
  {
   "cell_type": "code",
   "execution_count": null,
   "metadata": {
    "jupyter": {
     "outputs_hidden": false
    }
   },
   "outputs": [],
   "source": [
    "ff50434.messages"
   ]
  },
  {
   "cell_type": "code",
   "execution_count": null,
   "metadata": {
    "jupyter": {
     "outputs_hidden": false
    }
   },
   "outputs": [],
   "source": [
    "len(list([a for a in ff50087.get_messages('hrv')]))\n",
    "len(list([a for a in ff50434.get_messages('hrv')]))\n",
    "len(list([a for a in ff50493.get_messages('hrv')]))\n",
    "len(list([a for a in ff50503.get_messages('hrv')]))\n",
    "len(list([a for a in ff50539.get_messages('hrv')]))\n",
    "len(list([a for a in ff50640.get_messages('hrv')]))"
   ]
  },
  {
   "cell_type": "code",
   "execution_count": null,
   "metadata": {
    "jupyter": {
     "outputs_hidden": false
    }
   },
   "outputs": [],
   "source": [
    "len(list([a for a in ff50087.get_messages('record')]))\n",
    "len(list([a for a in ff50434.get_messages('record')]))\n",
    "len(list([a for a in ff50493.get_messages('record')]))\n",
    "len(list([a for a in ff50503.get_messages('record')]))\n",
    "len(list([a for a in ff50539.get_messages('record')]))\n",
    "len(list([a for a in ff50640.get_messages('record')]))"
   ]
  },
  {
   "cell_type": "code",
   "execution_count": null,
   "metadata": {
    "jupyter": {
     "outputs_hidden": false
    }
   },
   "outputs": [],
   "source": [
    "len(list([a for a in ff50087.get_messages('lap')]))\n",
    "len(list([a for a in ff50434.get_messages('lap')]))\n",
    "len(list([a for a in ff50493.get_messages('lap')]))\n",
    "len(list([a for a in ff50503.get_messages('lap')]))\n",
    "len(list([a for a in ff50539.get_messages('lap')]))\n",
    "len(list([a for a in ff50640.get_messages('lap')]))"
   ]
  },
  {
   "cell_type": "code",
   "execution_count": null,
   "metadata": {
    "jupyter": {
     "outputs_hidden": false
    }
   },
   "outputs": [],
   "source": [
    "set([a.name for a in ff50434.messages])"
   ]
  },
  {
   "cell_type": "code",
   "execution_count": null,
   "metadata": {
    "jupyter": {
     "outputs_hidden": false
    }
   },
   "outputs": [],
   "source": [
    "for record in fitfile2.get_messages('session'):\n",
    "    for record_data in record:\n",
    "        print (\"* %s: %s %s\" % (record_data.name, record_data.value, record_data.units))"
   ]
  },
  {
   "cell_type": "code",
   "execution_count": null,
   "metadata": {
    "jupyter": {
     "outputs_hidden": false
    }
   },
   "outputs": [],
   "source": [
    "list([a for a in ff50388.get_messages('session')])"
   ]
  },
  {
   "cell_type": "code",
   "execution_count": null,
   "metadata": {},
   "outputs": [],
   "source": [
    "list([a for a in ff50434.get_messages('record')])[-30:]"
   ]
  },
  {
   "cell_type": "markdown",
   "metadata": {},
   "source": [
    "total work in session message is: 2610682  \n",
    "accumulated power in the last record message is: 2610682\n",
    "\n",
    "power calculation seems to be r_i.accumulated = r_i.power+r_i-1.accumulated (example: 2610146+173=2610319)\n",
    "it means that the recorded power is the power for last second (in fact work done last second over a second)\n",
    "\n",
    "“Speed measurements are usually very accurate and not affected by the overestimation affect,”  “The statistics are just not in favor of GPS when it’s being used to collect distances.” https://www.runnersworld.com/news/a20858045/why-your-gps-watch-is-probably-overestimating-your-mileage/, https://www.tandfonline.com/doi/full/10.1080/13658816.2015.1086924"
   ]
  },
  {
   "cell_type": "code",
   "execution_count": null,
   "metadata": {
    "jupyter": {
     "outputs_hidden": false
    }
   },
   "outputs": [],
   "source": [
    "for record in fitfile2.get_messages('record'):\n",
    "\n",
    "    # Go through all the data entries in this record\n",
    "    for record_data in record:\n",
    "\n",
    "        # Print the records name and value (and units if it has any)\n",
    "        if record_data.units:\n",
    "            print( \" * %s: %s %s\" % (\n",
    "                record_data.name, record_data.value, record_data.units,\n",
    "            ))\n",
    "        else:\n",
    "            print(\" * %s: %s\" % (record_data.name, record_data.value))\n",
    "    print()"
   ]
  },
  {
   "cell_type": "code",
   "execution_count": null,
   "metadata": {
    "jupyter": {
     "outputs_hidden": false
    }
   },
   "outputs": [],
   "source": []
  },
  {
   "cell_type": "code",
   "execution_count": null,
   "metadata": {
    "collapsed": true,
    "jupyter": {
     "outputs_hidden": true
    }
   },
   "outputs": [],
   "source": []
  },
  {
   "cell_type": "code",
   "execution_count": null,
   "metadata": {
    "collapsed": true,
    "jupyter": {
     "outputs_hidden": true
    }
   },
   "outputs": [],
   "source": []
  }
 ],
 "metadata": {
  "kernelspec": {
   "display_name": "Python 3",
   "language": "python",
   "name": "python3"
  },
  "language_info": {
   "codemirror_mode": {
    "name": "ipython",
    "version": 3
   },
   "file_extension": ".py",
   "mimetype": "text/x-python",
   "name": "python",
   "nbconvert_exporter": "python",
   "pygments_lexer": "ipython3",
   "version": "3.9.1-final"
  }
 },
 "nbformat": 4,
 "nbformat_minor": 4
}