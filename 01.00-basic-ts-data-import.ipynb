{
 "cells": [
  {
   "cell_type": "markdown",
   "metadata": {},
   "source": [
    "## Basic data import "
   ]
  },
  {
   "cell_type": "markdown",
   "metadata": {},
   "source": [
    "Basic data import from Garmin fit files. All main fields for a bicicle race, including also some of the marks for laps. Regular laps and special lap treatment with stops here. The fields are for bicicle race but could also apply to running with some exceptions and we would need to add those more often used to running like pace. If you need access to other data, there is more on strucutre and contents of fit files in another notebook..."
   ]
  },
  {
   "cell_type": "markdown",
   "metadata": {},
   "source": [
    "Data can come from multiple users or multiple events. Each user and event in a separate file. In this one event with multiple participants. File name corresponds to some form of ID of a user..."
   ]
  },
  {
   "cell_type": "markdown",
   "metadata": {},
   "source": [
    "We start by doing basic imports. In particular we will use fitparse library to read contents of fit files..."
   ]
  },
  {
   "cell_type": "code",
   "execution_count": null,
   "metadata": {},
   "outputs": [],
   "source": [
    "%matplotlib inline\n",
    "from IPython.core.interactiveshell import InteractiveShell\n",
    "InteractiveShell.ast_node_interactivity = \"all\"\n",
    "from fitparse import FitFile\n",
    "from os import listdir\n",
    "from os.path import isfile, join\n",
    "import pandas as pd\n",
    "import numpy as np\n",
    "import matplotlib.pyplot as plt\n",
    "import matplotlib.dates as md\n",
    "from collections import OrderedDict"
   ]
  },
  {
   "cell_type": "markdown",
   "metadata": {},
   "source": [
    "we assume all files are in the same directory. we will load main information that's from along that race separatly from information about laps that. could this be influences by autolaps..."
   ]
  },
  {
   "cell_type": "code",
   "execution_count": null,
   "metadata": {
    "collapsed": true,
    "jupyter": {
     "outputs_hidden": true
    }
   },
   "outputs": [],
   "source": [
    "participant_files = [f for f in listdir('../needed-2018/T2') if isfile(join('../needed-2018/T2', f))]\n",
    "for i in range(len(participant_files)):\n",
    "    participant_files[i]\n",
    "all_dfs = []\n",
    "all_stops = []\n",
    "all_dStops = []\n",
    "all_rDfs = []"
   ]
  },
  {
   "source": [
    "Reading data for one user at a time with lap and stop information. \n",
    "\n",
    "\n",
    "\n",
    "display start - end time \n",
    "messages of type event, event_type: start and stop_all\n",
    "\n",
    "\n",
    "list of laps (start - end time)\n",
    "\n",
    "main fields that carry time information are start_time, timestamp, total_elapsed_time\n",
    "\n",
    "total_timer_time is total_elapsed_time - auto pause time (if in use), ref: https://forums.garmin.com/forum/into-sports/cycling/edge-810-aa/45987-...\n",
    "\n",
    "Total elapsed time on the last lap is not the same as timestamp-start_time, it also includes the time from when activity was stop to the moment that the activity is saved... \n",
    "\n",
    "speed corr function ensures that we get a float even if there is not number. otherwise, single such execpetion could detrail the whole input procedure. make sure that convertin lack of value to 0 makes sense in your case...\n",
    "\n",
    "we define two additional functions, one for reading information from a record message that contains all the tracking information such as timestamp, speed, distance etc. the second function to read information from lap message that is recorded i.a. every time user presses lap button...\n",
    "\n",
    "why do we have type information, could we drop it and just separate data?"
   ],
   "cell_type": "markdown",
   "metadata": {}
  },
  {
   "cell_type": "markdown",
   "metadata": {},
   "source": []
  },
  {
   "cell_type": "code",
   "execution_count": null,
   "metadata": {
    "tags": []
   },
   "outputs": [],
   "source": [
    "def speed_corr(speed):\n",
    "    return speed if isinstance(speed, float) else 0\n",
    "\n",
    "def power_corr(power):\n",
    "    return power if isinstance(power, int) else 0\n",
    "\n",
    "def read_record(rec):\n",
    "    global curr_stop\n",
    "    #global curr_active\n",
    "    if curr_stop == 1 and speed_corr(rec.get_value('speed')) > 7:\n",
    "        curr_stop = 0\n",
    "    #if ((speed_corr(rec.get_value('speed')) > 0) & (pd.isna(rec.get_value('power'))) or ((speed_corr(rec.get_value('speed')) > 0) & (power_corr(rec.get_value('power'))> 0))):\n",
    "        #curr_active = 1\n",
    "    return (rec.get_value('timestamp'), 1, curr_lap, curr_stop,\n",
    "            rec.get_value('speed'), rec.get_value('enhanced_speed'),\n",
    "            rec.get_value('distance'), rec.get_value('heart_rate'), \n",
    "            rec.get_value('accumulated_power'), rec.get_value('power'), \n",
    "            rec.get_value('position_lat'), rec.get_value('position_long'), \n",
    "            rec.get_value('altitude'), rec.get_value('enhanced_altitude'), \n",
    "            rec.get_value('cadence'), rec.get_value('factional_cadence'), \n",
    "            rec.get_value('left_right_balnce'), rec.get_value('left_torque_effectiveness'), \n",
    "            rec.get_value('right_torque_effectiveness'), rec.get_value('left_pedal_smoothness'), \n",
    "            rec.get_value('right_pedal_smoothness'), rec.get_value('temperature'))\n",
    "\n",
    "\n",
    "def read_lap(rec):\n",
    "    global curr_lap\n",
    "    global curr_stop\n",
    "    curr_lap += 1\n",
    "    curr_stop = 1\n",
    "    return (rec.get_value('timestamp'), 2, curr_lap, curr_stop, np.NaN, np.NaN, rec.get_value('total_distance'), np.NaN, np.NaN, \n",
    "            np.NaN, np.NaN, np.NaN, np.NaN, np.NaN, np.NaN, np.NaN, np.NaN, \n",
    "            np.NaN, np.NaN, np.NaN, np.NaN, np.NaN)\n",
    "\n",
    "fitgen_cols = ['timestamp', 'type', 'lap', 'stop', 'speed', 'enhanced_speed', 'distance', 'heart_rate', \n",
    "               'accumulated_power', 'power', 'position_lat', 'position_long', \n",
    "               'altitude', 'enhanced_altitude', 'cadence', 'factional_cadence', \n",
    "               'left_right_balnce', 'left_torque_effectiveness', 'right_torque_effectiveness', \n",
    "               'left_pedal_smoothness', 'right_pedal_smoothness', 'temperature']\n",
    "\n",
    "#initialize begin end as empty timestamps\n",
    "#start = pd.Timestamp(2020, 1, 1, 12)\n",
    "#end = pd.Timestamp(2016, 1, 1, 12)\n",
    "\n",
    "for participant_file in participant_files:\n",
    "    fitfile = FitFile('../needed-2018/T2/'+participant_file)\n",
    "    print(participant_file, 'start')\n",
    "    \n",
    "    curr_lap = 0\n",
    "    curr_stop = 0\n",
    "    #curr_active = 0\n",
    "    \n",
    "    fitgen = (read_record(rec) if rec.name=='record' else read_lap(rec) for \n",
    "    rec in fitfile.get_messages(['record', 'lap']))\n",
    "\n",
    "    allraw = list(rec for rec in fitfile.get_messages(['record', 'lap']))\n",
    "\n",
    "    print(participant_file, 'read')\n",
    "    \n",
    "    part_df = pd.DataFrame(fitgen, columns=fitgen_cols)\n",
    "    all_dfs.append(part_df[part_df['type']==1].set_index('timestamp'))\n",
    "    all_stops.append(part_df[part_df['type']==2].set_index('timestamp'))\n",
    "    \n",
    "    #relativ informasjon. Blir litt feil.\n",
    "    #all_rDfs.append(part_df[part_df['active']==1].set_index('timestamp'))\n",
    "\n",
    "    #if all_dfs[-1].index[0]<start: start = all_dfs[-1].index[0]\n",
    "    #if all_dfs[-1].index[-1]>end: end = all_dfs[-1].index[-1]\n",
    "    \n",
    "    print(participant_file, 'converted')\n",
    "\n",
    "\n",
    "#f = open('all_rDfs.txt', 'w')\n",
    "#for element in all_rDfs:\n",
    " #   f.write(element.to_string())\n",
    "  #  f.write('\\n')\n",
    "#f.close()\n",
    "#new_index = pd.date_range(start=start, end=end, freq='s')\n",
    "#for i in range(len(all_dfs)): #regular for loop without counter doesn't work\n",
    "    #all_dfs[i] = all_dfs[i].reindex(new_index)"
   ]
  },
  {
   "source": [
    "Creates all_dStops."
   ],
   "cell_type": "markdown",
   "metadata": {}
  },
  {
   "cell_type": "code",
   "execution_count": null,
   "metadata": {
    "tags": []
   },
   "outputs": [],
   "source": [
    "#indexarray also used in last stop plot.\n",
    "indexArray = []\n",
    "tempIndexes = []\n",
    "tempStops=[]\n",
    "\n",
    "#kanskje endre til -29 +29.\n",
    "def lookup_dfs(df, i, z):\n",
    "    stopStart = df[i].index.get_loc(indexArray[i][z])\n",
    "    tempDF = df[i].iloc[stopStart+1:]\n",
    "    stopEnd = df[i].index.get_loc(tempDF[(tempDF['stop'].diff() != 0) & (tempDF['lap'].diff() == 0) & (tempDF['lap'] == z+1)].index[0])\n",
    "    return df[i].iloc[stopStart-30:stopEnd+30]\n",
    "    \n",
    "\n",
    "#bruker -1 , men MÅ endre. Gjør pga stuck, siste måling virker spesiell..\n",
    "for i in range(len(all_stops)):\n",
    "    for x in range(len(all_stops[i])-1):\n",
    "        tempIndexes.append(all_stops[i].index[x])\n",
    "    indexArray.append(tempIndexes)\n",
    "    tempIndexes = []\n",
    "    for z in range(len(indexArray[i])):\n",
    "        tempStops.append(lookup_dfs(all_dfs, i, z))\n",
    "    userStop = pd.concat(tempStops)\n",
    "    all_dStops.append(userStop)\n",
    "    tempStops = []\n"
   ]
  },
  {
   "cell_type": "code",
   "execution_count": null,
   "metadata": {},
   "outputs": [],
   "source": [
    "f = open('all_dStops.txt', 'w')\n",
    "for element in all_dStops:\n",
    "    f.write(element.to_string())\n",
    "    f.write('\\n')\n",
    "f.close()"
   ]
  },
  {
   "cell_type": "code",
   "execution_count": null,
   "metadata": {},
   "outputs": [],
   "source": [
    "#allraw"
   ]
  },
  {
   "cell_type": "code",
   "execution_count": null,
   "metadata": {},
   "outputs": [],
   "source": [
    "#add_df = pd.concat(all_dfs, axis=1, keys=[a[:-4] for a in participant_files])"
   ]
  },
  {
   "cell_type": "code",
   "execution_count": null,
   "metadata": {},
   "outputs": [],
   "source": [
    "#stops_df = pd.concat(all_stops, axis=1, keys=[a[:-4] for a in participant_files])"
   ]
  },
  {
   "cell_type": "code",
   "execution_count": null,
   "metadata": {},
   "outputs": [],
   "source": [
    "#add_df['50338'][['stop','lap']].dropna().plot()"
   ]
  },
  {
   "cell_type": "code",
   "execution_count": null,
   "metadata": {},
   "outputs": [],
   "source": [
    "#add_df.swaplevel(axis=1)['stop'].sum().mean()\n",
    "#add_df.swaplevel(axis=1)['stop'].sum().median()\n",
    "#add_df.swaplevel(axis=1)['stop'].sum().min()\n",
    "#add_df.swaplevel(axis=1)['stop'].sum().max()"
   ]
  },
  {
   "cell_type": "code",
   "execution_count": null,
   "metadata": {},
   "outputs": [],
   "source": [
    "#stops_df['50338'][['stop','lap']].dropna().plot()"
   ]
  },
  {
   "cell_type": "code",
   "execution_count": null,
   "metadata": {},
   "outputs": [],
   "source": [
    "#stops_df['50338'][['stop','lap']].dropna()"
   ]
  },
  {
   "cell_type": "code",
   "execution_count": null,
   "metadata": {},
   "outputs": [],
   "source": [
    "#add_df.to_pickle('../all_df.pickle')\n",
    "#stops_df.to_pickle('../stops_df.pickle')"
   ]
  },
  {
   "cell_type": "code",
   "execution_count": null,
   "metadata": {},
   "outputs": [],
   "source": [
    "#Turns off useless spines, ticks and labels for additional axis.\n",
    "#Turns on the spine we want to see, and position it.\n",
    "def ax_modification(ax,pos,val):\n",
    "    for value in ax.spines.values():\n",
    "        value.set_visible(False)\n",
    "    ax.tick_params(axis='x', bottom=False, labelbottom=False)\n",
    "    ax.spines[pos].set_visible(True)\n",
    "    ax.spines[pos].set_position(('axes',val))\n",
    "    ax.yaxis.set_label_position(pos)\n",
    "    ax.yaxis.set_ticks_position(pos)\n",
    "    if val >= 1:\n",
    "        val += 0.15\n",
    "    else:\n",
    "        val -= 0.15\n",
    "    return val\n",
    "\n",
    "def ax_style(ax,title,color):\n",
    "    ax.set_ylabel(title)\n",
    "    ax.yaxis.label.set_color(color)\n",
    "    ax.tick_params(axis='y', colors=color)"
   ]
  },
  {
   "cell_type": "code",
   "execution_count": null,
   "metadata": {
    "tags": []
   },
   "outputs": [],
   "source": [
    "#Axis for 10 minutes start for every participant.\n",
    "add_df = pd.concat(all_dfs, axis=1, keys=[a[:-4] for a in participant_files])\n",
    "\n",
    "for participant_file in participant_files:\n",
    "    rightPosition = 1.00\n",
    "    leftPosition = -0.15\n",
    "    #first ax and figure stretch.\n",
    "    ID = participant_file[:-4]\n",
    "    fig, ax = plt.subplots()\n",
    "    fig.subplots_adjust(right=2)\n",
    "    #number of additional y axis:\n",
    "    ax2 = ax.twinx()\n",
    "    ax3 = ax.twinx()\n",
    "    ax4 = ax.twinx()\n",
    "    ax5 = ax.twinx()\n",
    "\n",
    "    #position spines and ticks for axis.\n",
    "    rightPosition = ax_modification(ax2,'right', rightPosition)\n",
    "    rightPosition = ax_modification(ax3,'right', rightPosition)\n",
    "    leftPosition = ax_modification(ax4,'left', leftPosition)\n",
    "    rightPosition = ax_modification(ax5,'right', rightPosition)\n",
    "\n",
    "\n",
    "    #Finds start where not only NaN:\n",
    "    startDate = add_df[ID].index[~add_df[ID].isnull().all(1)]\n",
    "    startRow = add_df[ID].index.get_loc(startDate[0])    \n",
    "    endRow = startRow + 600\n",
    "\n",
    "    add_df[ID]['accumulated_power'].iloc[startRow:endRow].plot(ax=ax, color='red',legend=False, title= ID + \" 10 minutes start\")\n",
    "    add_df[ID]['speed'].iloc[startRow:endRow].plot(ax=ax2, color='blue',legend=False)\n",
    "    add_df[ID]['power'].iloc[startRow:endRow].rolling(window=30).mean().plot(ax=ax3, color='green',legend=False)\n",
    "    add_df[ID]['altitude'].iloc[startRow:endRow].plot(ax=ax4, color='orange',legend=False)\n",
    "    add_df[ID]['distance'].diff().iloc[startRow:endRow].plot(ax=ax5, color='lightcoral',legend=False)\n",
    "\n",
    "    ax_style(ax,'Accumulated Power','red')\n",
    "    ax_style(ax2,'Speed','blue')\n",
    "    ax_style(ax3,'MA Power','green')\n",
    "    ax_style(ax4,'Altitude','orange')\n",
    "    ax_style(ax5,'Distance change','lightcoral')"
   ]
  },
  {
   "cell_type": "code",
   "execution_count": null,
   "metadata": {},
   "outputs": [],
   "source": [
    "add_df = pd.concat(all_dfs, axis=1, keys=[a[:-4] for a in participant_files])\n",
    "\n",
    "for participant_file in participant_files:\n",
    "    rightPosition = 1.00\n",
    "    leftPosition = -0.15\n",
    "\n",
    "    ID = participant_file[:-4]\n",
    "    fig, ax = plt.subplots()\n",
    "    fig.subplots_adjust(right=2)\n",
    "\n",
    "    ax2 = ax.twinx()\n",
    "    ax3 = ax.twinx()\n",
    "    ax4 = ax.twinx()\n",
    "\n",
    "    rightPosition = ax_modification(ax2,'right', rightPosition)\n",
    "    rightPosition = ax_modification(ax3,'right', rightPosition)\n",
    "    leftPosition = ax_modification(ax4,'left', leftPosition)\n",
    "\n",
    "    add_df[ID][['heart_rate']].plot(ax=ax, color='red',legend=False, title= ID + \" Relativ Start\")\n",
    "    add_df[ID][['speed']].plot(ax=ax2, color='blue',legend=False)\n",
    "    add_df[ID][['power']].rolling(window=30).mean().plot(ax=ax3, color='green',legend=False)\n",
    "    add_df[ID][['distance']].plot(ax=ax4, color='orange',legend=False)\n",
    "\n",
    "    ax_style(ax,'Heart rate','red')\n",
    "    ax_style(ax2,'Speed','blue')\n",
    "    ax_style(ax3,'MA Power','green')\n",
    "    ax_style(ax4,'Distance','orange')\n",
    "\n",
    "    #ax4.legend([ax.get_lines()[0], ax2.get_lines()[0], ax3.get_lines()[0], ax4.get_lines()[0]], ['Heart rate','Speed','MA Power','Distance'], loc='lower left', bbox_to_anchor=(1.3, 0.5))\n"
   ]
  },
  {
   "cell_type": "code",
   "execution_count": null,
   "metadata": {},
   "outputs": [],
   "source": [
    "all_dStops_df = pd.concat(all_dStops, axis=1, keys=[a[:-4] for a in participant_files])\n",
    "all_dStops_df.index = map(lambda x: str(x)[-8:], all_dStops_df.index)\n",
    "for participant_file in participant_files:\n",
    "    rightPosition = 1.00\n",
    "    leftPosition = -0.15\n",
    "    ID = participant_file[:-4]\n",
    "\n",
    "    fig, ax = plt.subplots()\n",
    "    fig.subplots_adjust(right=2)\n",
    "\n",
    "    ax2 = ax.twinx()\n",
    "    ax3 = ax.twinx()\n",
    "    ax4 = ax.twinx()\n",
    "    ax5 = ax.twinx()\n",
    "    ax6 = ax.twinx()\n",
    "\n",
    "    rightPosition = ax_modification(ax2,'right', rightPosition)\n",
    "    rightPosition = ax_modification(ax3,'right', rightPosition)\n",
    "    rightPosition = ax_modification(ax4, 'right', rightPosition)\n",
    "    leftPosition = ax_modification(ax5,'left', leftPosition)\n",
    "    leftPosition = ax_modification(ax6,'left', leftPosition)\n",
    "\n",
    "    stopValues = all_dStops_df[ID][~all_dStops_df[ID].isnull().all(1)]\n",
    "\n",
    "    stop_values[['heart_rate']].plot(ax=ax, color='red',legend=False, title= ID + \" All stops\")\n",
    "    stop_values[['speed']].plot(ax=ax2, color='blue',legend=False)\n",
    "    stop_values[['power']].plot(ax=ax3, color='green',legend=False)\n",
    "    stop_values[['distance']].plot(ax=ax4, color='orange',legend=False)\n",
    "    stop_values[['altitude']].plot(ax=ax5, color='lightcoral',legend=False)\n",
    "    stop_values[['accumulated_power']].plot(ax=ax6, color='purple',legend=False)\n",
    "\n",
    "    ax_style(ax,'Heart rate','red')\n",
    "    ax_style(ax2,'Speed','blue')\n",
    "    ax_style(ax3,'Power','green')\n",
    "    ax_style(ax4,'Distance change','orange')\n",
    "    ax_style(ax5,'Altitude','lightcoral')\n",
    "    ax_style(ax6,'Accumulated Power','purple')"
   ]
  },
  {
   "cell_type": "code",
   "execution_count": null,
   "metadata": {},
   "outputs": [],
   "source": [
    "all_dStops_df = pd.concat(all_dStops, axis=1, keys=[a[:-4] for a in participant_files])\n",
    "\n",
    "for participant_file in participant_files:\n",
    "    rightPosition = 1.00\n",
    "    leftPosition = -0.15\n",
    "    ID = participant_file[:-4]\n",
    "\n",
    "    fig, ax = plt.subplots()\n",
    "    fig.subplots_adjust(right=2)\n",
    "\n",
    "    ax2 = ax.twinx()\n",
    "    ax3 = ax.twinx()\n",
    "    ax4 = ax.twinx()\n",
    "    ax5 = ax.twinx()\n",
    "    ax6 = ax.twinx()\n",
    "\n",
    "    rightPosition = ax_modification(ax2,'right', rightPosition)\n",
    "    rightPosition = ax_modification(ax3,'right', rightPosition)\n",
    "    rightPosition = ax_modification(ax4, 'right', rightPosition)\n",
    "    leftPosition = ax_modification(ax5,'left', leftPosition)\n",
    "    leftPosition = ax_modification(ax6,'left', leftPosition)\n",
    "\n",
    "    #finding start and endDate for vertical line. Rows for iloc.\n",
    "    descendingDF = all_dStops_df[ID].sort_index(ascending=False)\n",
    "    startDate = all_dStops_df[ID]['lap'].idxmax()\n",
    "    endDate = descendingDF['lap'].idxmax() - pd.Timedelta(seconds=30)\n",
    "\n",
    "    startRow = all_dStops_df[ID].index.get_loc(startDate)-31\n",
    "    endRow = all_dStops_df[ID].index.get_loc(endDate)+30\n",
    "\n",
    "\n",
    "    all_dStops_df[ID][['heart_rate']].iloc[startRow:endRow].plot(ax=ax, color='red',legend=False, title= ID + \" Last stop\")\n",
    "    all_dStops_df[ID][['speed']].iloc[startRow:endRow].plot(ax=ax2, color='blue',legend=False)\n",
    "    all_dStops_df[ID][['power']].iloc[startRow:endRow].plot(ax=ax3, color='green',legend=False)\n",
    "    all_dStops_df[ID][['distance']].iloc[startRow:endRow].diff().plot(ax=ax4, color='orange',legend=False)\n",
    "    all_dStops_df[ID][['altitude']].iloc[startRow:endRow].plot(ax=ax5, color='lightcoral',legend=False)\n",
    "    all_dStops_df[ID][['accumulated_power']].iloc[startRow:endRow].plot(ax=ax6, color='purple',legend=False)\n",
    "\n",
    "    ax_style(ax,'Heart rate','red')\n",
    "    ax_style(ax2,'Speed','blue')\n",
    "    ax_style(ax3,'MA Power','green')\n",
    "    ax_style(ax4,'Distance change','orange')\n",
    "    ax_style(ax5,'Altitude','lightcoral')\n",
    "    ax_style(ax6,'Accumulated Power','purple')\n",
    "\n",
    "    ax.axvline(startDate, color='black', linestyle='--', lw=2)\n",
    "    ax.axvline(endDate, color='black', linestyle='--', lw=2)"
   ]
  },
  {
   "cell_type": "code",
   "execution_count": null,
   "metadata": {},
   "outputs": [],
   "source": []
  }
 ],
 "metadata": {
  "kernelspec": {
   "display_name": "Python 3",
   "language": "python",
   "name": "python3"
  },
  "language_info": {
   "codemirror_mode": {
    "name": "ipython",
    "version": 3
   },
   "file_extension": ".py",
   "mimetype": "text/x-python",
   "name": "python",
   "nbconvert_exporter": "python",
   "pygments_lexer": "ipython3",
   "version": "3.9.1-final"
  }
 },
 "nbformat": 4,
 "nbformat_minor": 4
}