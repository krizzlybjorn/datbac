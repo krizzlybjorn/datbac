{
 "metadata": {
  "language_info": {
   "codemirror_mode": {
    "name": "ipython",
    "version": 3
   },
   "file_extension": ".py",
   "mimetype": "text/x-python",
   "name": "python",
   "nbconvert_exporter": "python",
   "pygments_lexer": "ipython3",
   "version": "3.9.1-final"
  },
  "orig_nbformat": 2,
  "kernelspec": {
   "name": "python3",
   "display_name": "Python 3"
  }
 },
 "nbformat": 4,
 "nbformat_minor": 2,
 "cells": [
  {
   "cell_type": "code",
   "execution_count": null,
   "metadata": {},
   "outputs": [],
   "source": [
    "%run ../../lib/basic-import.ipynb\n",
    "%run ../../lib/plot-functions.ipynb"
   ]
  },
  {
   "cell_type": "code",
   "execution_count": null,
   "metadata": {},
   "outputs": [],
   "source": [
    "#print(part_df.keys())\n",
    "#epic_df = pd.concat(part_df, axis=1, keys=[a[:-4] for a in participant_files])\n",
    "epic_df = pd.concat(all_messages, axis=1, keys=[a[:-4] for a in participant_files])\n",
    "epic_2df = pd.concat(all_hrv, axis=1, keys=[a[:-4] for a in participant_files])"
   ]
  },
  {
   "cell_type": "code",
   "execution_count": null,
   "metadata": {},
   "outputs": [],
   "source": [
    "epic_2df['50338'].duplicated(subset=['timestamp']).sum()\n",
    "epic_df['50338'].duplicated(subset=['timestamp']).sum()\n",
    "epic_df['50338'].duplicated(subset=['timestamp','type']).sum()\n",
    "only_dup_epic_338 = epic_df['50338'][epic_df['50338','timestamp'].duplicated()]\n",
    "print(len(only_dup_epic_338))\n",
    "only_dup_epic_338.duplicated(subset=['type']).sum()\n",
    "compression_opts = dict(method='zip', archive_name='out.csv')\n",
    "only_dup_epic_338.to_csv('out.zip', compression=compression_opts)"
   ]
  },
  {
   "cell_type": "code",
   "execution_count": null,
   "metadata": {},
   "outputs": [],
   "source": [
    "def pd_plot_lap_hrv():\n",
    "    add_df = pd.concat(all_dfs, axis=1, keys=[a[:-4] for a in participant_files])\n",
    "\n",
    "    #for now, we are only looking at 50338\n",
    "    add_df_338 = add_df['50338']\n",
    "    # issue #15\n",
    "    add_df_338 = add_df_338[add_df_338['timestamp'].notnull()] \n",
    "\n",
    "    tempAdd_df = [] # should be renamed lapRange_df_li\n",
    "    lapDates = []   # should be renamed lapTimestamp_li\n",
    "    lapCount = 0\n",
    "\n",
    "    # Find the timestamps where lap increases\n",
    "    for i in add_df_338.index:\n",
    "        if add_df_338.loc[i,'lap'] > lapCount:\n",
    "            lapDates.append(add_df_338.loc[i,'timestamp'])\n",
    "            lapCount += 1\n",
    "\n",
    "    # Find +-30 s from lap increase, and store all rows in range\n",
    "    add_df_338.set_index('timestamp', inplace=True)\n",
    "    timedelta_30s = pd.Timedelta(\"00:00:30\")\n",
    "    for i in range(len(lapDates)):\n",
    "        startRow = add_df_338.index.get_loc(lapDates[i]-timedelta_30s)\n",
    "        endRow = add_df_338.index.get_loc(lapDates[i]+timedelta_30s)\n",
    "        tempAdd_df.append(add_df_338.iloc[startRow:endRow])\n",
    "    \n",
    "    # Create plot for every stop\n",
    "    for i in range(len(lapDates)):\n",
    "        fig, ax = plt.subplots()\n",
    "\n",
    "        trans = ax.get_xaxis_transform()\n",
    "\n",
    "        ax2 = ax.twinx()\n",
    "        ax3 = ax.twinx()\n",
    "        ax4 = ax.twinx()\n",
    "        ax5 = ax.twinx()\n",
    "        ax6 = ax.twinx()\n",
    "\n",
    "        rightPosition = 1.00\n",
    "        leftPosition = -0.10\n",
    "\n",
    "        rightPosition = ax_modification(ax2,'right', rightPosition)\n",
    "        rightPosition = ax_modification(ax3,'right', rightPosition)\n",
    "        leftPosition = ax_modification(ax4,'left', leftPosition)\n",
    "        rightPosition = ax_modification(ax5,'right', rightPosition)\n",
    "        leftPosition = ax_modification(ax6,'left', leftPosition)\n",
    "        \n",
    "        tempAdd_df[i]['accumulated_power'].plot(ax=ax, color='red',legend=False, title=\"all laps +-30, pd 50338\")\n",
    "        tempAdd_df[i]['speed'].plot(ax=ax2, color='blue',legend=False)\n",
    "        tempAdd_df[i]['power'].plot(ax=ax3, color='green',legend=False)\n",
    "        tempAdd_df[i]['altitude'].plot(ax=ax4, color='orange',legend=False)\n",
    "        tempAdd_df[i]['distance'].plot(ax=ax5, color='lightcoral',legend=False)\n",
    "        tempAdd_df[i]['heart_rate'].plot(ax=ax6, color='purple',legend=False)    \n",
    "        ax.axvline((lapDates[i]), color='black', linestyle='--', lw=2)\n",
    "        ax.text((lapDates[i]),.5,(lapDates[i]),transform=trans)\n",
    "        \n",
    "        ax_style(ax,'Accumulated Power','red')\n",
    "        ax_style(ax2,'Speed','blue')\n",
    "        ax_style(ax3,'Power','green')\n",
    "        ax_style(ax4,'Altitude','orange')\n",
    "        ax_style(ax5,'Distance','lightcoral')\n",
    "        ax_style(ax6,'Heartrate','purple')"
   ]
  },
  {
   "cell_type": "code",
   "execution_count": null,
   "metadata": {},
   "outputs": [],
   "source": [
    "pd_plot_lap_hrv"
   ]
  }
 ]
}