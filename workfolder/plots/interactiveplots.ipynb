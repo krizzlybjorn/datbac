{
 "metadata": {
  "language_info": {
   "codemirror_mode": {
    "name": "ipython",
    "version": 3
   },
   "file_extension": ".py",
   "mimetype": "text/x-python",
   "name": "python",
   "nbconvert_exporter": "python",
   "pygments_lexer": "ipython3",
   "version": "3.9.1-final"
  },
  "orig_nbformat": 2,
  "kernelspec": {
   "name": "python3",
   "display_name": "Python 3",
   "language": "python"
  }
 },
 "nbformat": 4,
 "nbformat_minor": 2,
 "cells": [
  {
   "source": [
    "## Interactive plot test"
   ],
   "cell_type": "markdown",
   "metadata": {}
  },
  {
   "cell_type": "code",
   "execution_count": null,
   "metadata": {},
   "outputs": [],
   "source": [
    "%run ../../lib/basic-import.ipynb\n",
    "%run ../../lib/plot-functions.ipynb"
   ]
  },
  {
   "cell_type": "code",
   "execution_count": null,
   "metadata": {},
   "outputs": [],
   "source": [
    "%matplotlib widget\n",
    "import ipywidgets as widgets\n",
    "\n",
    "#trenger ipymbl, node.js."
   ]
  },
  {
   "cell_type": "code",
   "execution_count": null,
   "metadata": {},
   "outputs": [],
   "source": [
    "add_df = pd.concat(all_dfs, axis=1, keys=[a[:-4] for a in participant_files])\n",
    "rightPosition = 1.00\n",
    "leftPosition = -0.10\n",
    "\n",
    "fig, ax = plt.subplots()\n",
    "fig.subplots_adjust(right=2)\n",
    "\n",
    "ax2 = ax.twinx()\n",
    "ax3 = ax.twinx()\n",
    "ax4 = ax.twinx()\n",
    "ax5 = ax.twinx()\n",
    "\n",
    "rightPosition = ax_modification(ax2,'right', rightPosition)\n",
    "rightPosition = ax_modification(ax3,'right', rightPosition)\n",
    "leftPosition = ax_modification(ax4,'left', leftPosition)\n",
    "rightPosition = ax_modification(ax5,'right', rightPosition)\n",
    "\n",
    "add_df['50338']['accumulated_power'].plot(ax=ax, color='red',legend=False, title=\"50338\")\n",
    "add_df['50338']['speed'].plot(ax=ax2, color='blue',legend=False)\n",
    "add_df['50338']['power'].rolling(window=30).mean().plot(ax=ax3, color='green',legend=False)\n",
    "add_df['50338']['altitude'].plot(ax=ax4, color='orange',legend=False)\n",
    "add_df['50338']['distance'].diff().plot(ax=ax5, color='lightcoral',legend=False)\n",
    "\n",
    "ax_style(ax,'Accumulated Power','red')\n",
    "ax_style(ax2,'Speed','blue')\n",
    "ax_style(ax3,'MA Power','green')\n",
    "ax_style(ax4,'Altitude','orange')\n",
    "ax_style(ax5,'Distance change','lightcoral')\n"
   ]
  },
  {
   "cell_type": "code",
   "execution_count": null,
   "metadata": {},
   "outputs": [],
   "source": []
  }
 ]
}