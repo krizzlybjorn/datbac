{
 "metadata": {
  "language_info": {
   "codemirror_mode": {
    "name": "ipython",
    "version": 3
   },
   "file_extension": ".py",
   "mimetype": "text/x-python",
   "name": "python",
   "nbconvert_exporter": "python",
   "pygments_lexer": "ipython3",
   "version": "3.9.2-final"
  },
  "orig_nbformat": 2,
  "kernelspec": {
   "name": "python39164bit51200ab64ad14520bc0649db207189e1",
   "display_name": "Python 3.9.1 64-bit"
  }
 },
 "nbformat": 4,
 "nbformat_minor": 2,
 "cells": [
  {
   "source": [
    "### Press counter\n",
    "This notebook find the number of lap presses made by every participant. It then counts how many participant had each number of keypresses and display that information"
   ],
   "cell_type": "markdown",
   "metadata": {}
  },
  {
   "cell_type": "code",
   "execution_count": null,
   "metadata": {},
   "outputs": [],
   "source": [
    "%run ../../lib/basic-import.ipynb"
   ]
  },
  {
   "cell_type": "code",
   "execution_count": null,
   "metadata": {},
   "outputs": [],
   "source": [
    "add_df = pd.concat(all_dfs, axis=1, keys=[a[:-4] for a in participant_files])\n",
    "def number_of_laps():\n",
    "    lap_dic = {}\n",
    "    for participant in participant_files:\n",
    "        ID = participant[:-4]\n",
    "\n",
    "        add_df_338 = add_df[ID]\n",
    "        add_df_338 = add_df_338[~add_df_338.isnull().all(1)]\n",
    "        \n",
    "        # Think this is better. Find where lap changes value by 1 and make a list of the index.\n",
    "        lapTimestamp_li = list(add_df_338.index[add_df_338['lap'].diff() == 1])\n",
    "        if len(lapTimestamp_li) in lap_dic:\n",
    "            lap_dic[len(lapTimestamp_li)] += 1\n",
    "        else:\n",
    "            lap_dic[len(lapTimestamp_li)] = 1\n",
    "            \n",
    "    print(lap_dic)"
   ]
  },
  {
   "cell_type": "code",
   "execution_count": null,
   "metadata": {},
   "outputs": [],
   "source": [
    "number_of_laps()"
   ]
  }
 ]
}