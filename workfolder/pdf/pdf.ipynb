{
 "metadata": {
  "language_info": {
   "codemirror_mode": {
    "name": "ipython",
    "version": 3
   },
   "file_extension": ".py",
   "mimetype": "text/x-python",
   "name": "python",
   "nbconvert_exporter": "python",
   "pygments_lexer": "ipython3",
   "version": "3.9.1-final"
  },
  "orig_nbformat": 2,
  "kernelspec": {
   "name": "python3",
   "display_name": "Python 3"
  }
 },
 "nbformat": 4,
 "nbformat_minor": 2,
 "cells": [
  {
   "source": [
    "# Create PDF"
   ],
   "cell_type": "markdown",
   "metadata": {}
  },
  {
   "cell_type": "code",
   "execution_count": null,
   "metadata": {},
   "outputs": [],
   "source": [
    "from reportlab.platypus import Table, SimpleDocTemplate, TableStyle, Paragraph, Image\n",
    "from reportlab.lib import colors"
   ]
  },
  {
   "source": [
    "Definitions"
   ],
   "cell_type": "markdown",
   "metadata": {}
  },
  {
   "cell_type": "code",
   "execution_count": null,
   "metadata": {},
   "outputs": [],
   "source": [
    "# makeTable takes data and creates a table with border and grid\n",
    "def makeTable(data):\n",
    "    table = Table(data)\n",
    "    table.setStyle(TableStyle([('INNERGRID', (0,0), (-1,-1), 0.25, colors.black),('BOX', (0,0), (-1,-1), 0.75, colors.black)]))\n",
    "    return table"
   ]
  },
  {
   "source": [
    "General approach:\n",
    "- Create document (doc)\n",
    "- Create empty list (elements)\n",
    "- Append to list\n",
    "- Build doc with\n",
    "\n",
    "We can therefor make a forloop over the participants, fetch the relevant data and create a pdf for each participant."
   ],
   "cell_type": "markdown",
   "metadata": {}
  },
  {
   "cell_type": "code",
   "execution_count": null,
   "metadata": {},
   "outputs": [],
   "source": [
    "doc = SimpleDocTemplate('test.pdf', rightMargin=72, leftMargin=72)\n",
    "elements = []\n",
    "\n",
    "data = [['a','b','c','d'],['1','2','3','4']]\n",
    "elements.append(makeTable(data))\n",
    "\n",
    "elements.append(Image('testimg.png'))\n",
    "\n",
    "doc.build(elements)"
   ]
  },
  {
   "cell_type": "code",
   "execution_count": null,
   "metadata": {},
   "outputs": [],
   "source": []
  }
 ]
}