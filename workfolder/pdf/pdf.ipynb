{
 "metadata": {
  "language_info": {
   "codemirror_mode": {
    "name": "ipython",
    "version": 3
   },
   "file_extension": ".py",
   "mimetype": "text/x-python",
   "name": "python",
   "nbconvert_exporter": "python",
   "pygments_lexer": "ipython3",
   "version": "3.9.2-final"
  },
  "orig_nbformat": 2,
  "kernelspec": {
   "name": "python3",
   "display_name": "Python 3",
   "language": "python"
  }
 },
 "nbformat": 4,
 "nbformat_minor": 2,
 "cells": [
  {
   "source": [
    "# Create PDF"
   ],
   "cell_type": "markdown",
   "metadata": {}
  },
  {
   "cell_type": "code",
   "execution_count": null,
   "metadata": {},
   "outputs": [],
   "source": [
    "from reportlab.platypus import Table, SimpleDocTemplate, TableStyle, Paragraph, Image, PageBreak\n",
    "from reportlab.lib import colors\n",
    "from reportlab.lib import utils\n",
    "from reportlab.lib.units import cm\n",
    "\n",
    "from os import listdir\n",
    "\n",
    "import csv"
   ]
  },
  {
   "source": [
    "Definitions"
   ],
   "cell_type": "markdown",
   "metadata": {}
  },
  {
   "cell_type": "code",
   "execution_count": null,
   "metadata": {},
   "outputs": [],
   "source": [
    "# makeTable takes data and creates a table with border and grid\n",
    "def makeTable(data):\n",
    "    table = Table(data)\n",
    "    table.setStyle(TableStyle([('INNERGRID', (0,0), (-1,-1), 0.25, colors.black),('BOX', (0,0), (-1,-1), 0.75, colors.black)]))\n",
    "    return table"
   ]
  },
  {
   "cell_type": "code",
   "execution_count": null,
   "metadata": {},
   "outputs": [],
   "source": [
    "# https://stackoverflow.com/questions/5327670/image-aspect-ratio-using-reportlab-in-python\n",
    "def get_image(path, width=1*cm):\n",
    "    img = utils.ImageReader(path)\n",
    "    iw, ih = img.getSize()\n",
    "    aspect = ih / float(iw)\n",
    "    return Image(path, width=width, height=(width * aspect))\n",
    "\n",
    "def get_rimage(path, width=1*cm):\n",
    "    img = utils.ImageReader(path)\n",
    "    iw, ih = img.getSize()\n",
    "    aspect = ih / float(iw)\n",
    "    return RotatedImage(path, width=width, height=(width * aspect))"
   ]
  },
  {
   "cell_type": "code",
   "execution_count": null,
   "metadata": {},
   "outputs": [],
   "source": []
  },
  {
   "cell_type": "code",
   "execution_count": null,
   "metadata": {},
   "outputs": [],
   "source": [
    "# Pagenumber:\n",
    "# https://code.activestate.com/recipes/546511-page-x-of-y-with-reportlab/\n",
    "# https://code.activestate.com/recipes/576832/\n",
    "\n",
    "# Header:\n",
    "# https://stackoverflow.com/questions/49344094/reportlab-pass-custom-argument-to-canvas#49350581\n",
    "# (specifically Barranka's answer)\n",
    "\n",
    "from reportlab.pdfgen import canvas\n",
    "from reportlab.lib.units import mm\n",
    "\n",
    "class NumberedCanvas(canvas.Canvas):\n",
    "    def __init__(self, *args, **kwargs):\n",
    "        canvas.Canvas.__init__(self, *args, **kwargs)\n",
    "        self._saved_page_states = []\n",
    "        self.header = ID_global\n",
    "\n",
    "    def showPage(self):\n",
    "        self._saved_page_states.append(dict(self.__dict__))\n",
    "        self._startPage()\n",
    "\n",
    "    def save(self):\n",
    "        \"\"\"add page info to each page (page x of y)\"\"\"\n",
    "        num_pages = len(self._saved_page_states)\n",
    "        for state in self._saved_page_states:\n",
    "            self.__dict__.update(state)\n",
    "            self.draw_page_number(num_pages)\n",
    "            self.draw_header()\n",
    "            canvas.Canvas.showPage(self)\n",
    "        canvas.Canvas.save(self)\n",
    "\n",
    "    def draw_page_number(self, page_count):\n",
    "        self.setFont(\"Helvetica\", 7)\n",
    "        self.drawRightString(200*mm, 20*mm,\n",
    "            \"Page %d of %d\" % (self._pageNumber, page_count))\n",
    "\n",
    "    def draw_header(self):\n",
    "        self.setFont(\"Helvetica\", 12)\n",
    "        self.drawString(100*mm, 280*mm, self.header)\n",
    "\n",
    "# Rotate:\n",
    "# https://stackoverflow.com/questions/29848988/a-simple-method-for-rotate-images-in-reportlab\n",
    "\n",
    "# Center:\n",
    "# https://stackoverflow.com/questions/43644835/reportlab-how-to-center-an-image-on-canvas\n",
    "# (note, their solution used canvas)\n",
    "class RotatedImage(Image):\n",
    "\n",
    "    def wrap(self,availWidth,availHeight):\n",
    "        h, w = Image.wrap(self,availHeight,availWidth)\n",
    "        return w, h\n",
    "    \n",
    "    def draw(self):\n",
    "        self.canv.rotate(90)\n",
    "        Image.draw(self)\n",
    "\n",
    "#from reportlab.graphics.shapes import Image, Drawing\n",
    "#\n",
    "#def firstPage(canvas, doc):\n",
    "#    canvas.saveState()\n",
    "#    img = Image(fullplot_graph)\n",
    "#    d = Drawing(0, 0)\n",
    "#    d.add(img)\n",
    "#    d.scale(100,100)\n",
    "#    d.rotate(90)\n",
    "#    canvas.drawImage(fullplot_graph, 0, 0, mask='auto', preserveAspectRatio=True, anchor='c')\n",
    "#    canvas.restoreState()"
   ]
  },
  {
   "source": [
    "General approach:\n",
    "- Create document (doc)\n",
    "- Create empty list (elements)\n",
    "- Append to list\n",
    "- Build doc\n",
    "\n",
    "We can therefor make a forloop over the participants, fetch the relevant data and create a pdf for each participant. As of now, we use a handselected ID. We also have to move png and csv files manually, but this would be easy to change later."
   ],
   "cell_type": "markdown",
   "metadata": {}
  },
  {
   "source": [
    "# Simple exampel to illustrate usage\n",
    "\n",
    "#doc = SimpleDocTemplate('test.pdf', rightMargin=72, leftMargin=72)\n",
    "#elements = []\n",
    "#\n",
    "#data = [['a','b','c','d'],['1','2','3','4']]\n",
    "#elements.append(makeTable(data))\n",
    "#\n",
    "#elements.append(Image('testimg.png'))\n",
    "#\n",
    "#doc.build(elements)"
   ],
   "cell_type": "code",
   "metadata": {},
   "execution_count": null,
   "outputs": []
  },
  {
   "source": [
    "How to use:\n",
    "- Moved output png and csv of correctionplot.ipynb from plots folder into pdf folder.\n",
    "- DONE"
   ],
   "cell_type": "markdown",
   "metadata": {}
  },
  {
   "cell_type": "code",
   "execution_count": null,
   "metadata": {
    "tags": []
   },
   "outputs": [],
   "source": [
    "datafolder = '../data/'\n",
    "\n",
    "png_width_full = 24\n",
    "png_width_lap = 19\n",
    "\n",
    "global ID_global\n",
    "global fullplot_graph\n",
    "\n",
    "for ID in listdir(datafolder):\n",
    "    ID_global = ID\n",
    "    output_location_string = datafolder+ID+'/'\n",
    "    doc = SimpleDocTemplate('report{}.pdf'.format(ID), rightMargin=72, leftMargin=72)\n",
    "    elements = []\n",
    "\n",
    "    #Add full race graph\n",
    "#    elements.append(get_image(output_location_string+'fullracepd{}.png'.format(ID), width=png_width_full*cm))\n",
    "    elements.append(get_rimage(output_location_string+'fullracepd{}.png'.format(ID), width=png_width_full*cm))\n",
    "#    fullplot_graph = output_location_string+'fullracepd{}.png'.format(ID)\n",
    "\n",
    "#    img = get_rimage(fullplot_graph, width=png_width_full*cm)\n",
    "#    d = Drawing(0, 0)\n",
    "#    d.add(img)\n",
    "#    d.scale(100,100)\n",
    "#    d.rotate(90)\n",
    "#    elements.append(d)\n",
    "\n",
    "    #Add table\n",
    "    with open(output_location_string+'correlation_{}.csv'.format(ID)) as c:\n",
    "        data = list(csv.reader(c))\n",
    "        elements.append(makeTable(data))\n",
    "    \n",
    "    #Next page\n",
    "    elements.append(PageBreak())\n",
    "\n",
    "    #Find all lap plots\n",
    "    keyword = 'lap'\n",
    "    lap_plot_list = []\n",
    "    for lap_plot_file in listdir(output_location_string):\n",
    "        if keyword in lap_plot_file:\n",
    "            lap_plot_list.append(lap_plot_file)\n",
    "\n",
    "#    #Adjust lap graph size\n",
    "#    if len(lap_plot_list) >= 4:\n",
    "#        png_width_lap = 20 #at 4 or more graphs, report will be more than 2 pages\n",
    "\n",
    "    #Sort and add graphs\n",
    "    lap_plot_list.sort()\n",
    "    for lap_graph in lap_plot_list:\n",
    "        elements.append(get_image(output_location_string+lap_graph, width=png_width_lap*cm))\n",
    "\n",
    "    doc.build(elements, canvasmaker=NumberedCanvas)\n",
    "\n",
    "#   doc.build(elements, canvasmaker=NumberedCanvas, onFirstPage=firstPage)"
   ]
  },
  {
   "cell_type": "code",
   "execution_count": null,
   "metadata": {},
   "outputs": [],
   "source": []
  }
 ]
}